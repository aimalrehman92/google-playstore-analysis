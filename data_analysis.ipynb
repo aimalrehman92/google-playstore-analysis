{
 "cells": [
  {
   "cell_type": "markdown",
   "metadata": {},
   "source": [
    "# Analysis of Google PlayStore Apps dataset"
   ]
  },
  {
   "cell_type": "markdown",
   "metadata": {},
   "source": [
    "Using the Visualization methods, we reveal the information hidden in the dataset:\n",
    "  \n",
    "  - What types and categories of apps are the most popular across the playstore\n",
    "  - What types and categories of apps get the highest number of installations\n",
    " \n",
    "Using K-Nearest Neighbor Algorithm, we predict the  ratings of the 20% of apps based on their attributes with 89% accuracy by training the model over the remaining 80% data."
   ]
  },
  {
   "cell_type": "code",
   "execution_count": 1,
   "metadata": {},
   "outputs": [],
   "source": [
    "import pandas as pd"
   ]
  },
  {
   "cell_type": "code",
   "execution_count": 2,
   "metadata": {},
   "outputs": [],
   "source": [
    "#Let us import the dataset.\n",
    "data = pd.read_csv(\"googleplaystore.csv\")"
   ]
  },
  {
   "cell_type": "code",
   "execution_count": 3,
   "metadata": {
    "colab": {},
    "colab_type": "code",
    "id": "j7eh2CjyVVhK"
   },
   "outputs": [],
   "source": [
    "import numpy as np\n",
    "from matplotlib import pyplot as plt\n",
    "import seaborn as sns\n",
    "from pylab import rcParams"
   ]
  },
  {
   "cell_type": "code",
   "execution_count": 4,
   "metadata": {
    "colab": {},
    "colab_type": "code",
    "id": "9nQcJfF-VVhN"
   },
   "outputs": [],
   "source": [
    "from sklearn import metrics\n",
    "from sklearn import preprocessing\n",
    "from sklearn.neighbors import KNeighborsRegressor\n",
    "from sklearn.ensemble import RandomForestRegressor\n",
    "from sklearn.model_selection import train_test_split"
   ]
  },
  {
   "cell_type": "code",
   "execution_count": 5,
   "metadata": {
    "colab": {},
    "colab_type": "code",
    "id": "jEIItvJsVVhP"
   },
   "outputs": [],
   "source": [
    "import sys\n",
    "import re\n",
    "import time\n",
    "import datetime"
   ]
  },
  {
   "cell_type": "code",
   "execution_count": 6,
   "metadata": {
    "colab": {},
    "colab_type": "code",
    "id": "xEXXwNIxVVhT",
    "outputId": "ebada72c-57f1-4701-a9a9-fafc552e77e7"
   },
   "outputs": [
    {
     "data": {
      "text/html": [
       "<div>\n",
       "<style scoped>\n",
       "    .dataframe tbody tr th:only-of-type {\n",
       "        vertical-align: middle;\n",
       "    }\n",
       "\n",
       "    .dataframe tbody tr th {\n",
       "        vertical-align: top;\n",
       "    }\n",
       "\n",
       "    .dataframe thead th {\n",
       "        text-align: right;\n",
       "    }\n",
       "</style>\n",
       "<table border=\"1\" class=\"dataframe\">\n",
       "  <thead>\n",
       "    <tr style=\"text-align: right;\">\n",
       "      <th></th>\n",
       "      <th>App</th>\n",
       "      <th>Category</th>\n",
       "      <th>Rating</th>\n",
       "      <th>Reviews</th>\n",
       "      <th>Size</th>\n",
       "      <th>Installs</th>\n",
       "      <th>Type</th>\n",
       "      <th>Price</th>\n",
       "      <th>Content Rating</th>\n",
       "      <th>Genres</th>\n",
       "      <th>Last Updated</th>\n",
       "      <th>Current Ver</th>\n",
       "      <th>Android Ver</th>\n",
       "    </tr>\n",
       "  </thead>\n",
       "  <tbody>\n",
       "    <tr>\n",
       "      <th>0</th>\n",
       "      <td>Photo Editor &amp; Candy Camera &amp; Grid &amp; ScrapBook</td>\n",
       "      <td>ART_AND_DESIGN</td>\n",
       "      <td>4.1</td>\n",
       "      <td>159</td>\n",
       "      <td>19M</td>\n",
       "      <td>10,000+</td>\n",
       "      <td>Free</td>\n",
       "      <td>0</td>\n",
       "      <td>Everyone</td>\n",
       "      <td>Art &amp; Design</td>\n",
       "      <td>January 7, 2018</td>\n",
       "      <td>1.0.0</td>\n",
       "      <td>4.0.3 and up</td>\n",
       "    </tr>\n",
       "    <tr>\n",
       "      <th>1</th>\n",
       "      <td>Coloring book moana</td>\n",
       "      <td>ART_AND_DESIGN</td>\n",
       "      <td>3.9</td>\n",
       "      <td>967</td>\n",
       "      <td>14M</td>\n",
       "      <td>500,000+</td>\n",
       "      <td>Free</td>\n",
       "      <td>0</td>\n",
       "      <td>Everyone</td>\n",
       "      <td>Art &amp; Design;Pretend Play</td>\n",
       "      <td>January 15, 2018</td>\n",
       "      <td>2.0.0</td>\n",
       "      <td>4.0.3 and up</td>\n",
       "    </tr>\n",
       "    <tr>\n",
       "      <th>2</th>\n",
       "      <td>U Launcher Lite – FREE Live Cool Themes, Hide ...</td>\n",
       "      <td>ART_AND_DESIGN</td>\n",
       "      <td>4.7</td>\n",
       "      <td>87510</td>\n",
       "      <td>8.7M</td>\n",
       "      <td>5,000,000+</td>\n",
       "      <td>Free</td>\n",
       "      <td>0</td>\n",
       "      <td>Everyone</td>\n",
       "      <td>Art &amp; Design</td>\n",
       "      <td>August 1, 2018</td>\n",
       "      <td>1.2.4</td>\n",
       "      <td>4.0.3 and up</td>\n",
       "    </tr>\n",
       "    <tr>\n",
       "      <th>3</th>\n",
       "      <td>Sketch - Draw &amp; Paint</td>\n",
       "      <td>ART_AND_DESIGN</td>\n",
       "      <td>4.5</td>\n",
       "      <td>215644</td>\n",
       "      <td>25M</td>\n",
       "      <td>50,000,000+</td>\n",
       "      <td>Free</td>\n",
       "      <td>0</td>\n",
       "      <td>Teen</td>\n",
       "      <td>Art &amp; Design</td>\n",
       "      <td>June 8, 2018</td>\n",
       "      <td>Varies with device</td>\n",
       "      <td>4.2 and up</td>\n",
       "    </tr>\n",
       "    <tr>\n",
       "      <th>4</th>\n",
       "      <td>Pixel Draw - Number Art Coloring Book</td>\n",
       "      <td>ART_AND_DESIGN</td>\n",
       "      <td>4.3</td>\n",
       "      <td>967</td>\n",
       "      <td>2.8M</td>\n",
       "      <td>100,000+</td>\n",
       "      <td>Free</td>\n",
       "      <td>0</td>\n",
       "      <td>Everyone</td>\n",
       "      <td>Art &amp; Design;Creativity</td>\n",
       "      <td>June 20, 2018</td>\n",
       "      <td>1.1</td>\n",
       "      <td>4.4 and up</td>\n",
       "    </tr>\n",
       "  </tbody>\n",
       "</table>\n",
       "</div>"
      ],
      "text/plain": [
       "                                                 App        Category  Rating  \\\n",
       "0     Photo Editor & Candy Camera & Grid & ScrapBook  ART_AND_DESIGN     4.1   \n",
       "1                                Coloring book moana  ART_AND_DESIGN     3.9   \n",
       "2  U Launcher Lite – FREE Live Cool Themes, Hide ...  ART_AND_DESIGN     4.7   \n",
       "3                              Sketch - Draw & Paint  ART_AND_DESIGN     4.5   \n",
       "4              Pixel Draw - Number Art Coloring Book  ART_AND_DESIGN     4.3   \n",
       "\n",
       "  Reviews  Size     Installs  Type Price Content Rating  \\\n",
       "0     159   19M      10,000+  Free     0       Everyone   \n",
       "1     967   14M     500,000+  Free     0       Everyone   \n",
       "2   87510  8.7M   5,000,000+  Free     0       Everyone   \n",
       "3  215644   25M  50,000,000+  Free     0           Teen   \n",
       "4     967  2.8M     100,000+  Free     0       Everyone   \n",
       "\n",
       "                      Genres      Last Updated         Current Ver  \\\n",
       "0               Art & Design   January 7, 2018               1.0.0   \n",
       "1  Art & Design;Pretend Play  January 15, 2018               2.0.0   \n",
       "2               Art & Design    August 1, 2018               1.2.4   \n",
       "3               Art & Design      June 8, 2018  Varies with device   \n",
       "4    Art & Design;Creativity     June 20, 2018                 1.1   \n",
       "\n",
       "    Android Ver  \n",
       "0  4.0.3 and up  \n",
       "1  4.0.3 and up  \n",
       "2  4.0.3 and up  \n",
       "3    4.2 and up  \n",
       "4    4.4 and up  "
      ]
     },
     "execution_count": 6,
     "metadata": {},
     "output_type": "execute_result"
    }
   ],
   "source": [
    "data.head()"
   ]
  },
  {
   "cell_type": "markdown",
   "metadata": {},
   "source": [
    "We take a look at the attributes of the dataset.\n",
    "The data.info() will give us useful insights. It is used below."
   ]
  },
  {
   "cell_type": "code",
   "execution_count": 7,
   "metadata": {
    "colab": {},
    "colab_type": "code",
    "id": "yfExor5BVVhX",
    "outputId": "e8abf057-2088-4f48-b7d1-df49d50f17bd"
   },
   "outputs": [
    {
     "name": "stdout",
     "output_type": "stream",
     "text": [
      "<class 'pandas.core.frame.DataFrame'>\n",
      "RangeIndex: 10841 entries, 0 to 10840\n",
      "Data columns (total 13 columns):\n",
      "App               10841 non-null object\n",
      "Category          10841 non-null object\n",
      "Rating            9367 non-null float64\n",
      "Reviews           10841 non-null object\n",
      "Size              10841 non-null object\n",
      "Installs          10841 non-null object\n",
      "Type              10840 non-null object\n",
      "Price             10841 non-null object\n",
      "Content Rating    10840 non-null object\n",
      "Genres            10841 non-null object\n",
      "Last Updated      10841 non-null object\n",
      "Current Ver       10833 non-null object\n",
      "Android Ver       10838 non-null object\n",
      "dtypes: float64(1), object(12)\n",
      "memory usage: 1.1+ MB\n"
     ]
    }
   ],
   "source": [
    "data.info()"
   ]
  },
  {
   "cell_type": "markdown",
   "metadata": {},
   "source": [
    "So there are 13 columns in the dataset with a mojority of them of type 'object'.\n",
    "There are 10841 apps recorded in the dataset."
   ]
  },
  {
   "cell_type": "code",
   "execution_count": 8,
   "metadata": {
    "colab": {},
    "colab_type": "code",
    "id": "I9ucQT3zVVhd",
    "outputId": "9b0e0937-f38b-4c0d-a139-c8c7bbeb9db7"
   },
   "outputs": [
    {
     "data": {
      "text/html": [
       "<div>\n",
       "<style scoped>\n",
       "    .dataframe tbody tr th:only-of-type {\n",
       "        vertical-align: middle;\n",
       "    }\n",
       "\n",
       "    .dataframe tbody tr th {\n",
       "        vertical-align: top;\n",
       "    }\n",
       "\n",
       "    .dataframe thead th {\n",
       "        text-align: right;\n",
       "    }\n",
       "</style>\n",
       "<table border=\"1\" class=\"dataframe\">\n",
       "  <thead>\n",
       "    <tr style=\"text-align: right;\">\n",
       "      <th></th>\n",
       "      <th>App</th>\n",
       "      <th>Category</th>\n",
       "      <th>Rating</th>\n",
       "      <th>Reviews</th>\n",
       "      <th>Size</th>\n",
       "      <th>Installs</th>\n",
       "      <th>Type</th>\n",
       "      <th>Price</th>\n",
       "      <th>Content Rating</th>\n",
       "      <th>Genres</th>\n",
       "      <th>Last Updated</th>\n",
       "      <th>Current Ver</th>\n",
       "      <th>Android Ver</th>\n",
       "    </tr>\n",
       "  </thead>\n",
       "  <tbody>\n",
       "    <tr>\n",
       "      <th>count</th>\n",
       "      <td>10841</td>\n",
       "      <td>10841</td>\n",
       "      <td>9367.000000</td>\n",
       "      <td>10841</td>\n",
       "      <td>10841</td>\n",
       "      <td>10841</td>\n",
       "      <td>10840</td>\n",
       "      <td>10841</td>\n",
       "      <td>10840</td>\n",
       "      <td>10841</td>\n",
       "      <td>10841</td>\n",
       "      <td>10833</td>\n",
       "      <td>10838</td>\n",
       "    </tr>\n",
       "    <tr>\n",
       "      <th>unique</th>\n",
       "      <td>9660</td>\n",
       "      <td>34</td>\n",
       "      <td>NaN</td>\n",
       "      <td>6002</td>\n",
       "      <td>462</td>\n",
       "      <td>22</td>\n",
       "      <td>3</td>\n",
       "      <td>93</td>\n",
       "      <td>6</td>\n",
       "      <td>120</td>\n",
       "      <td>1378</td>\n",
       "      <td>2832</td>\n",
       "      <td>33</td>\n",
       "    </tr>\n",
       "    <tr>\n",
       "      <th>top</th>\n",
       "      <td>ROBLOX</td>\n",
       "      <td>FAMILY</td>\n",
       "      <td>NaN</td>\n",
       "      <td>0</td>\n",
       "      <td>Varies with device</td>\n",
       "      <td>1,000,000+</td>\n",
       "      <td>Free</td>\n",
       "      <td>0</td>\n",
       "      <td>Everyone</td>\n",
       "      <td>Tools</td>\n",
       "      <td>August 3, 2018</td>\n",
       "      <td>Varies with device</td>\n",
       "      <td>4.1 and up</td>\n",
       "    </tr>\n",
       "    <tr>\n",
       "      <th>freq</th>\n",
       "      <td>9</td>\n",
       "      <td>1972</td>\n",
       "      <td>NaN</td>\n",
       "      <td>596</td>\n",
       "      <td>1695</td>\n",
       "      <td>1579</td>\n",
       "      <td>10039</td>\n",
       "      <td>10040</td>\n",
       "      <td>8714</td>\n",
       "      <td>842</td>\n",
       "      <td>326</td>\n",
       "      <td>1459</td>\n",
       "      <td>2451</td>\n",
       "    </tr>\n",
       "    <tr>\n",
       "      <th>mean</th>\n",
       "      <td>NaN</td>\n",
       "      <td>NaN</td>\n",
       "      <td>4.193338</td>\n",
       "      <td>NaN</td>\n",
       "      <td>NaN</td>\n",
       "      <td>NaN</td>\n",
       "      <td>NaN</td>\n",
       "      <td>NaN</td>\n",
       "      <td>NaN</td>\n",
       "      <td>NaN</td>\n",
       "      <td>NaN</td>\n",
       "      <td>NaN</td>\n",
       "      <td>NaN</td>\n",
       "    </tr>\n",
       "    <tr>\n",
       "      <th>std</th>\n",
       "      <td>NaN</td>\n",
       "      <td>NaN</td>\n",
       "      <td>0.537431</td>\n",
       "      <td>NaN</td>\n",
       "      <td>NaN</td>\n",
       "      <td>NaN</td>\n",
       "      <td>NaN</td>\n",
       "      <td>NaN</td>\n",
       "      <td>NaN</td>\n",
       "      <td>NaN</td>\n",
       "      <td>NaN</td>\n",
       "      <td>NaN</td>\n",
       "      <td>NaN</td>\n",
       "    </tr>\n",
       "    <tr>\n",
       "      <th>min</th>\n",
       "      <td>NaN</td>\n",
       "      <td>NaN</td>\n",
       "      <td>1.000000</td>\n",
       "      <td>NaN</td>\n",
       "      <td>NaN</td>\n",
       "      <td>NaN</td>\n",
       "      <td>NaN</td>\n",
       "      <td>NaN</td>\n",
       "      <td>NaN</td>\n",
       "      <td>NaN</td>\n",
       "      <td>NaN</td>\n",
       "      <td>NaN</td>\n",
       "      <td>NaN</td>\n",
       "    </tr>\n",
       "    <tr>\n",
       "      <th>25%</th>\n",
       "      <td>NaN</td>\n",
       "      <td>NaN</td>\n",
       "      <td>4.000000</td>\n",
       "      <td>NaN</td>\n",
       "      <td>NaN</td>\n",
       "      <td>NaN</td>\n",
       "      <td>NaN</td>\n",
       "      <td>NaN</td>\n",
       "      <td>NaN</td>\n",
       "      <td>NaN</td>\n",
       "      <td>NaN</td>\n",
       "      <td>NaN</td>\n",
       "      <td>NaN</td>\n",
       "    </tr>\n",
       "    <tr>\n",
       "      <th>50%</th>\n",
       "      <td>NaN</td>\n",
       "      <td>NaN</td>\n",
       "      <td>4.300000</td>\n",
       "      <td>NaN</td>\n",
       "      <td>NaN</td>\n",
       "      <td>NaN</td>\n",
       "      <td>NaN</td>\n",
       "      <td>NaN</td>\n",
       "      <td>NaN</td>\n",
       "      <td>NaN</td>\n",
       "      <td>NaN</td>\n",
       "      <td>NaN</td>\n",
       "      <td>NaN</td>\n",
       "    </tr>\n",
       "    <tr>\n",
       "      <th>75%</th>\n",
       "      <td>NaN</td>\n",
       "      <td>NaN</td>\n",
       "      <td>4.500000</td>\n",
       "      <td>NaN</td>\n",
       "      <td>NaN</td>\n",
       "      <td>NaN</td>\n",
       "      <td>NaN</td>\n",
       "      <td>NaN</td>\n",
       "      <td>NaN</td>\n",
       "      <td>NaN</td>\n",
       "      <td>NaN</td>\n",
       "      <td>NaN</td>\n",
       "      <td>NaN</td>\n",
       "    </tr>\n",
       "    <tr>\n",
       "      <th>max</th>\n",
       "      <td>NaN</td>\n",
       "      <td>NaN</td>\n",
       "      <td>19.000000</td>\n",
       "      <td>NaN</td>\n",
       "      <td>NaN</td>\n",
       "      <td>NaN</td>\n",
       "      <td>NaN</td>\n",
       "      <td>NaN</td>\n",
       "      <td>NaN</td>\n",
       "      <td>NaN</td>\n",
       "      <td>NaN</td>\n",
       "      <td>NaN</td>\n",
       "      <td>NaN</td>\n",
       "    </tr>\n",
       "  </tbody>\n",
       "</table>\n",
       "</div>"
      ],
      "text/plain": [
       "           App Category       Rating Reviews                Size    Installs  \\\n",
       "count    10841    10841  9367.000000   10841               10841       10841   \n",
       "unique    9660       34          NaN    6002                 462          22   \n",
       "top     ROBLOX   FAMILY          NaN       0  Varies with device  1,000,000+   \n",
       "freq         9     1972          NaN     596                1695        1579   \n",
       "mean       NaN      NaN     4.193338     NaN                 NaN         NaN   \n",
       "std        NaN      NaN     0.537431     NaN                 NaN         NaN   \n",
       "min        NaN      NaN     1.000000     NaN                 NaN         NaN   \n",
       "25%        NaN      NaN     4.000000     NaN                 NaN         NaN   \n",
       "50%        NaN      NaN     4.300000     NaN                 NaN         NaN   \n",
       "75%        NaN      NaN     4.500000     NaN                 NaN         NaN   \n",
       "max        NaN      NaN    19.000000     NaN                 NaN         NaN   \n",
       "\n",
       "         Type  Price Content Rating Genres    Last Updated  \\\n",
       "count   10840  10841          10840  10841           10841   \n",
       "unique      3     93              6    120            1378   \n",
       "top      Free      0       Everyone  Tools  August 3, 2018   \n",
       "freq    10039  10040           8714    842             326   \n",
       "mean      NaN    NaN            NaN    NaN             NaN   \n",
       "std       NaN    NaN            NaN    NaN             NaN   \n",
       "min       NaN    NaN            NaN    NaN             NaN   \n",
       "25%       NaN    NaN            NaN    NaN             NaN   \n",
       "50%       NaN    NaN            NaN    NaN             NaN   \n",
       "75%       NaN    NaN            NaN    NaN             NaN   \n",
       "max       NaN    NaN            NaN    NaN             NaN   \n",
       "\n",
       "               Current Ver Android Ver  \n",
       "count                10833       10838  \n",
       "unique                2832          33  \n",
       "top     Varies with device  4.1 and up  \n",
       "freq                  1459        2451  \n",
       "mean                   NaN         NaN  \n",
       "std                    NaN         NaN  \n",
       "min                    NaN         NaN  \n",
       "25%                    NaN         NaN  \n",
       "50%                    NaN         NaN  \n",
       "75%                    NaN         NaN  \n",
       "max                    NaN         NaN  "
      ]
     },
     "execution_count": 8,
     "metadata": {},
     "output_type": "execute_result"
    }
   ],
   "source": [
    "data.describe(include='all')"
   ]
  },
  {
   "cell_type": "markdown",
   "metadata": {},
   "source": [
    "Out of the 10841 applications recorded in the dataset, there are 9660 unique applications. We need to remove the remaining duplicate entries for our analysis. It also tells that a mjority of those unique cppas are from 'Family' catagory. A large number of these unique apps see more than a million installations, are 'Free' to download and have content suitable for everyone. We also notice that there are a lot of null entries in various columns. The dataset thus requires cleansing of the 'null' values.\n",
    "Let us start with removing the duplicate entries."
   ]
  },
  {
   "cell_type": "code",
   "execution_count": 9,
   "metadata": {
    "colab": {},
    "colab_type": "code",
    "id": "tx6o3DBDVVhg",
    "outputId": "9500a0ef-ec08-443f-a99c-0acd4e4667b1"
   },
   "outputs": [],
   "source": [
    "data = data.drop_duplicates(subset='App')"
   ]
  },
  {
   "cell_type": "markdown",
   "metadata": {},
   "source": [
    "We summarize the null entries in the columns below:"
   ]
  },
  {
   "cell_type": "code",
   "execution_count": 10,
   "metadata": {
    "colab": {},
    "colab_type": "code",
    "id": "-viv6D7eVVhl",
    "outputId": "dc053593-4c8e-4156-a7a6-563af4877bdd"
   },
   "outputs": [
    {
     "data": {
      "text/plain": [
       "App                  0\n",
       "Category             0\n",
       "Rating            1463\n",
       "Reviews              0\n",
       "Size                 0\n",
       "Installs             0\n",
       "Type                 1\n",
       "Price                0\n",
       "Content Rating       1\n",
       "Genres               0\n",
       "Last Updated         0\n",
       "Current Ver          8\n",
       "Android Ver          3\n",
       "dtype: int64"
      ]
     },
     "execution_count": 10,
     "metadata": {},
     "output_type": "execute_result"
    }
   ],
   "source": [
    "data.isnull().sum()"
   ]
  },
  {
   "cell_type": "markdown",
   "metadata": {},
   "source": [
    "'Rating' column has the highest number of null entries. We drop the null entries in all of the columns as they carry no meaning. "
   ]
  },
  {
   "cell_type": "code",
   "execution_count": 11,
   "metadata": {
    "colab": {},
    "colab_type": "code",
    "id": "bxb4sqQ_VVho",
    "outputId": "d363099d-2fe4-483e-85a8-aa881816afca"
   },
   "outputs": [
    {
     "data": {
      "text/plain": [
       "App               0\n",
       "Category          0\n",
       "Rating            0\n",
       "Reviews           0\n",
       "Size              0\n",
       "Installs          0\n",
       "Type              0\n",
       "Price             0\n",
       "Content Rating    0\n",
       "Genres            0\n",
       "Last Updated      0\n",
       "Current Ver       0\n",
       "Android Ver       0\n",
       "dtype: int64"
      ]
     },
     "execution_count": 11,
     "metadata": {},
     "output_type": "execute_result"
    }
   ],
   "source": [
    "data.dropna(inplace=True, subset =['Rating', 'Type', 'Content Rating', 'Current Ver', 'Android Ver'])\n",
    "data.isnull().sum()"
   ]
  },
  {
   "cell_type": "markdown",
   "metadata": {},
   "source": [
    "So now all the null entries are removed."
   ]
  },
  {
   "cell_type": "markdown",
   "metadata": {},
   "source": [
    "We start our analysis of the 'cleaned' data by studying the individual statistics of the columns in the dataset."
   ]
  },
  {
   "cell_type": "code",
   "execution_count": 12,
   "metadata": {
    "colab": {},
    "colab_type": "code",
    "id": "tZ95l3OXVVhq",
    "outputId": "9ec9e3c0-cd9b-4766-9a1d-21caa6ef13e0"
   },
   "outputs": [
    {
     "data": {
      "image/png": "[encoded data removed]",
      "text/plain": [
       "<Figure size 1008x576 with 1 Axes>"
      ]
     },
     "metadata": {
      "needs_background": "light"
     },
     "output_type": "display_data"
    }
   ],
   "source": [
    "ax = data['Category'].value_counts().plot(kind='bar', color = 'blue',\n",
    "                                    figsize=(14,8),\n",
    "                                    title=\"Bar chart for the Category of the apps\")\n",
    "ax.set_xlabel(\"Category\", fontsize=14)\n",
    "ax.set_ylabel(\"Frequency\", fontsize=14)\n",
    "plt.tick_params(labelsize=12)"
   ]
  },
  {
   "cell_type": "markdown",
   "metadata": {},
   "source": [
    "As mentioned above, most of the apps in the appstore lie in the category of \"Family\". There are about 1600 Family apps in the dataset followed by the apps that can be categorized as \"Game\" and \"Tools\" which are 900 and 700 in number, respectively."
   ]
  },
  {
   "cell_type": "markdown",
   "metadata": {
    "colab": {},
    "colab_type": "code",
    "id": "X3nVuMR1VVht"
   },
   "source": [
    "Next, we look at the frequency of these apps in the appstore with respect to their installations across the android devices."
   ]
  },
  {
   "cell_type": "code",
   "execution_count": 13,
   "metadata": {
    "colab": {},
    "colab_type": "code",
    "id": "lfLaOUtAVVh3",
    "outputId": "ab58ff7d-0f48-4efb-b5e7-d39fe2fc2d23"
   },
   "outputs": [
    {
     "data": {
      "image/png": "[encoded data removed]",
      "text/plain": [
       "<Figure size 1008x576 with 1 Axes>"
      ]
     },
     "metadata": {
      "needs_background": "light"
     },
     "output_type": "display_data"
    }
   ],
   "source": [
    "ax = data['Installs'].value_counts().plot(kind='bar', color = 'green',\n",
    "                                    figsize=(14,8),\n",
    "                                    title=\"Bar chart for the Installs of the apps\")\n",
    "ax.set_xlabel(\"Installs\", fontsize=14)\n",
    "ax.set_ylabel(\"Frequency\", fontsize=14)\n",
    "plt.tick_params(labelsize=12)"
   ]
  },
  {
   "cell_type": "markdown",
   "metadata": {},
   "source": [
    "The figure above shows that the majority of the apps present in the appstore are widely downloaded across the android devices.\n",
    "About 1400 of the apps see more than a million installations. The number of apps with very little installation are significantly smaller."
   ]
  },
  {
   "cell_type": "code",
   "execution_count": 14,
   "metadata": {
    "colab": {},
    "colab_type": "code",
    "id": "WO4Mh08IVVh6",
    "outputId": "efd9aa9e-5948-4864-9c7c-19024b774ab1"
   },
   "outputs": [
    {
     "data": {
      "image/png": "[encoded data removed]",
      "text/plain": [
       "<Figure size 1008x576 with 1 Axes>"
      ]
     },
     "metadata": {
      "needs_background": "light"
     },
     "output_type": "display_data"
    }
   ],
   "source": [
    "ax = data['Type'].value_counts().plot(kind='bar', color = 'purple', \n",
    "                                    figsize=(14,8),\n",
    "                                    title=\"Bar chart for the Type of the apps\")\n",
    "ax.set_xlabel(\"Types\", fontsize = 14)\n",
    "ax.set_ylabel(\"Frequency\", fontsize = 14)\n",
    "plt.tick_params(labelsize=12)"
   ]
  },
  {
   "cell_type": "code",
   "execution_count": 15,
   "metadata": {},
   "outputs": [
    {
     "data": {
      "image/png": "[encoded data removed]",
      "text/plain": [
       "<Figure size 432x432 with 1 Axes>"
      ]
     },
     "metadata": {},
     "output_type": "display_data"
    }
   ],
   "source": [
    "labels =data['Type'].value_counts(sort = True).index\n",
    "sizes = data['Type'].value_counts(sort = True)\n",
    "\n",
    "colors = [\"blue\", \"yellow\"]\n",
    "explode = (0.1, 0)  # explode 1st slice\n",
    " \n",
    "rcParams['figure.figsize'] = 6, 6\n",
    "# Plot\n",
    "plt.pie(sizes, explode=explode, labels=labels, colors=colors,\n",
    "        autopct='%1.1f%%', shadow=True, startangle=270,)\n",
    "\n",
    "plt.rcParams['font.size'] = 12\n",
    "\n",
    "plt.title('Percentage Distribution of Apps in store',size = 14)\n",
    "plt.show()"
   ]
  },
  {
   "cell_type": "markdown",
   "metadata": {},
   "source": [
    "From the above given bar graph, it is clear that the apps that can be downloaded free of cost completely dominate the Google appstore."
   ]
  },
  {
   "cell_type": "code",
   "execution_count": 16,
   "metadata": {
    "colab": {},
    "colab_type": "code",
    "id": "oFsdTN9EVVh_",
    "outputId": "a91cc909-2b11-46fd-c4fd-b4cb19196b27"
   },
   "outputs": [
    {
     "data": {
      "image/png": "[encoded data removed]",
      "text/plain": [
       "<Figure size 1008x576 with 1 Axes>"
      ]
     },
     "metadata": {
      "needs_background": "light"
     },
     "output_type": "display_data"
    }
   ],
   "source": [
    "ax = data['Content Rating'].value_counts().plot(kind='bar', color ='maroon',\n",
    "                                    figsize=(14,8),\n",
    "                                    title=\"Bar chart for the Installs of the apps\")\n",
    "ax.set_xlabel(\"Content Rating\", fontsize = 14)\n",
    "ax.set_ylabel(\"Frequency\", fontsize = 14)\n",
    "plt.tick_params(labelsize=12)"
   ]
  },
  {
   "cell_type": "markdown",
   "metadata": {},
   "source": [
    "This graph shows that a large number of apps in the Google Appstore contain the content that is considered suitable for 'Everyone' followed by the apps with content that suit the age group 'Teen' at minimum."
   ]
  },
  {
   "cell_type": "code",
   "execution_count": null,
   "metadata": {
    "colab": {
     "base_uri": "https://localhost:8080/",
     "height": 231
    },
    "colab_type": "code",
    "id": "8uP6suc9VViC",
    "outputId": "cdf1251c-3c90-4d9f-d32e-13b939e89017"
   },
   "outputs": [],
   "source": [
    "#ax = data['Genres'].value_counts().plot(kind='bar',\n",
    "#                                    figsize=(25, 8),\n",
    "#                                    title=\"Bar chart for the Genre of the apps\")\n",
    "#ax.set_xlabel(\"Genres\")\n",
    "#ax.set_ylabel(\"Frequency\")\n",
    "\n",
    "# Hmm ! What to do with the 'Genre' column ?"
   ]
  },
  {
   "cell_type": "code",
   "execution_count": 57,
   "metadata": {},
   "outputs": [],
   "source": [
    "# How about adding a small para on Pearson correlation coefficient ?"
   ]
  },
  {
   "cell_type": "markdown",
   "metadata": {
    "colab": {},
    "colab_type": "code",
    "id": "d8tZegcwVViI"
   },
   "source": [
    "Next, we look at the correlation between various columns of the Google appstore dataset.\n",
    "Pearson Correlation coefficient gives us a number that tells how much correlated or uncorrelated two attributes are."
   ]
  },
  {
   "cell_type": "markdown",
   "metadata": {},
   "source": [
    "Since most of the atrributes are non-numeric. We need to convert them to numeric attributes in order to calculate the Pearson coefficient."
   ]
  },
  {
   "cell_type": "code",
   "execution_count": 17,
   "metadata": {
    "colab": {},
    "colab_type": "code",
    "id": "wQgWxYTrVViK",
    "outputId": "06506cec-dcae-4b76-c4d4-d954cc51bd38"
   },
   "outputs": [
    {
     "data": {
      "text/html": [
       "<style  type=\"text/css\" >\n",
       "    #T_0f5edc56_9746_11e9_88c1_d46a6aa6cb2drow0_col0 {\n",
       "            background-color:  #ff0000;\n",
       "            color:  #f1f1f1;\n",
       "        }    #T_0f5edc56_9746_11e9_88c1_d46a6aa6cb2drow0_col1 {\n",
       "            background-color:  #9c9cff;\n",
       "            color:  #000000;\n",
       "        }    #T_0f5edc56_9746_11e9_88c1_d46a6aa6cb2drow0_col2 {\n",
       "            background-color:  #7070ff;\n",
       "            color:  #000000;\n",
       "        }    #T_0f5edc56_9746_11e9_88c1_d46a6aa6cb2drow0_col3 {\n",
       "            background-color:  #fff0f0;\n",
       "            color:  #000000;\n",
       "        }    #T_0f5edc56_9746_11e9_88c1_d46a6aa6cb2drow0_col4 {\n",
       "            background-color:  #6a6aff;\n",
       "            color:  #000000;\n",
       "        }    #T_0f5edc56_9746_11e9_88c1_d46a6aa6cb2drow0_col5 {\n",
       "            background-color:  #5252ff;\n",
       "            color:  #f1f1f1;\n",
       "        }    #T_0f5edc56_9746_11e9_88c1_d46a6aa6cb2drow0_col6 {\n",
       "            background-color:  #3636ff;\n",
       "            color:  #f1f1f1;\n",
       "        }    #T_0f5edc56_9746_11e9_88c1_d46a6aa6cb2drow0_col7 {\n",
       "            background-color:  #3a3aff;\n",
       "            color:  #f1f1f1;\n",
       "        }    #T_0f5edc56_9746_11e9_88c1_d46a6aa6cb2drow0_col8 {\n",
       "            background-color:  #0000ff;\n",
       "            color:  #f1f1f1;\n",
       "        }    #T_0f5edc56_9746_11e9_88c1_d46a6aa6cb2drow0_col9 {\n",
       "            background-color:  #6060ff;\n",
       "            color:  #000000;\n",
       "        }    #T_0f5edc56_9746_11e9_88c1_d46a6aa6cb2drow0_col10 {\n",
       "            background-color:  #dcdcff;\n",
       "            color:  #000000;\n",
       "        }    #T_0f5edc56_9746_11e9_88c1_d46a6aa6cb2drow0_col11 {\n",
       "            background-color:  #9c9cff;\n",
       "            color:  #000000;\n",
       "        }    #T_0f5edc56_9746_11e9_88c1_d46a6aa6cb2drow0_col12 {\n",
       "            background-color:  #2828ff;\n",
       "            color:  #f1f1f1;\n",
       "        }    #T_0f5edc56_9746_11e9_88c1_d46a6aa6cb2drow1_col0 {\n",
       "            background-color:  #a4a4ff;\n",
       "            color:  #000000;\n",
       "        }    #T_0f5edc56_9746_11e9_88c1_d46a6aa6cb2drow1_col1 {\n",
       "            background-color:  #ff0000;\n",
       "            color:  #f1f1f1;\n",
       "        }    #T_0f5edc56_9746_11e9_88c1_d46a6aa6cb2drow1_col2 {\n",
       "            background-color:  #2626ff;\n",
       "            color:  #f1f1f1;\n",
       "        }    #T_0f5edc56_9746_11e9_88c1_d46a6aa6cb2drow1_col3 {\n",
       "            background-color:  #b2b2ff;\n",
       "            color:  #000000;\n",
       "        }    #T_0f5edc56_9746_11e9_88c1_d46a6aa6cb2drow1_col4 {\n",
       "            background-color:  #4040ff;\n",
       "            color:  #f1f1f1;\n",
       "        }    #T_0f5edc56_9746_11e9_88c1_d46a6aa6cb2drow1_col5 {\n",
       "            background-color:  #3030ff;\n",
       "            color:  #f1f1f1;\n",
       "        }    #T_0f5edc56_9746_11e9_88c1_d46a6aa6cb2drow1_col6 {\n",
       "            background-color:  #3e3eff;\n",
       "            color:  #f1f1f1;\n",
       "        }    #T_0f5edc56_9746_11e9_88c1_d46a6aa6cb2drow1_col7 {\n",
       "            background-color:  #3a3aff;\n",
       "            color:  #f1f1f1;\n",
       "        }    #T_0f5edc56_9746_11e9_88c1_d46a6aa6cb2drow1_col8 {\n",
       "            background-color:  #0000ff;\n",
       "            color:  #f1f1f1;\n",
       "        }    #T_0f5edc56_9746_11e9_88c1_d46a6aa6cb2drow1_col9 {\n",
       "            background-color:  #ff4848;\n",
       "            color:  #000000;\n",
       "        }    #T_0f5edc56_9746_11e9_88c1_d46a6aa6cb2drow1_col10 {\n",
       "            background-color:  #5a5aff;\n",
       "            color:  #f1f1f1;\n",
       "        }    #T_0f5edc56_9746_11e9_88c1_d46a6aa6cb2drow1_col11 {\n",
       "            background-color:  #6c6cff;\n",
       "            color:  #000000;\n",
       "        }    #T_0f5edc56_9746_11e9_88c1_d46a6aa6cb2drow1_col12 {\n",
       "            background-color:  #4040ff;\n",
       "            color:  #f1f1f1;\n",
       "        }    #T_0f5edc56_9746_11e9_88c1_d46a6aa6cb2drow2_col0 {\n",
       "            background-color:  #8686ff;\n",
       "            color:  #000000;\n",
       "        }    #T_0f5edc56_9746_11e9_88c1_d46a6aa6cb2drow2_col1 {\n",
       "            background-color:  #3838ff;\n",
       "            color:  #f1f1f1;\n",
       "        }    #T_0f5edc56_9746_11e9_88c1_d46a6aa6cb2drow2_col2 {\n",
       "            background-color:  #ff0000;\n",
       "            color:  #f1f1f1;\n",
       "        }    #T_0f5edc56_9746_11e9_88c1_d46a6aa6cb2drow2_col3 {\n",
       "            background-color:  #0000ff;\n",
       "            color:  #f1f1f1;\n",
       "        }    #T_0f5edc56_9746_11e9_88c1_d46a6aa6cb2drow2_col4 {\n",
       "            background-color:  #4646ff;\n",
       "            color:  #f1f1f1;\n",
       "        }    #T_0f5edc56_9746_11e9_88c1_d46a6aa6cb2drow2_col5 {\n",
       "            background-color:  #9a9aff;\n",
       "            color:  #000000;\n",
       "        }    #T_0f5edc56_9746_11e9_88c1_d46a6aa6cb2drow2_col6 {\n",
       "            background-color:  #4242ff;\n",
       "            color:  #f1f1f1;\n",
       "        }    #T_0f5edc56_9746_11e9_88c1_d46a6aa6cb2drow2_col7 {\n",
       "            background-color:  #4848ff;\n",
       "            color:  #f1f1f1;\n",
       "        }    #T_0f5edc56_9746_11e9_88c1_d46a6aa6cb2drow2_col8 {\n",
       "            background-color:  #2626ff;\n",
       "            color:  #f1f1f1;\n",
       "        }    #T_0f5edc56_9746_11e9_88c1_d46a6aa6cb2drow2_col9 {\n",
       "            background-color:  #3030ff;\n",
       "            color:  #f1f1f1;\n",
       "        }    #T_0f5edc56_9746_11e9_88c1_d46a6aa6cb2drow2_col10 {\n",
       "            background-color:  #6666ff;\n",
       "            color:  #000000;\n",
       "        }    #T_0f5edc56_9746_11e9_88c1_d46a6aa6cb2drow2_col11 {\n",
       "            background-color:  #4242ff;\n",
       "            color:  #f1f1f1;\n",
       "        }    #T_0f5edc56_9746_11e9_88c1_d46a6aa6cb2drow2_col12 {\n",
       "            background-color:  #4444ff;\n",
       "            color:  #f1f1f1;\n",
       "        }    #T_0f5edc56_9746_11e9_88c1_d46a6aa6cb2drow3_col0 {\n",
       "            background-color:  #ffc6c6;\n",
       "            color:  #000000;\n",
       "        }    #T_0f5edc56_9746_11e9_88c1_d46a6aa6cb2drow3_col1 {\n",
       "            background-color:  #e6e6ff;\n",
       "            color:  #000000;\n",
       "        }    #T_0f5edc56_9746_11e9_88c1_d46a6aa6cb2drow3_col2 {\n",
       "            background-color:  #3e3eff;\n",
       "            color:  #f1f1f1;\n",
       "        }    #T_0f5edc56_9746_11e9_88c1_d46a6aa6cb2drow3_col3 {\n",
       "            background-color:  #ff0000;\n",
       "            color:  #f1f1f1;\n",
       "        }    #T_0f5edc56_9746_11e9_88c1_d46a6aa6cb2drow3_col4 {\n",
       "            background-color:  #8888ff;\n",
       "            color:  #000000;\n",
       "        }    #T_0f5edc56_9746_11e9_88c1_d46a6aa6cb2drow3_col5 {\n",
       "            background-color:  #0000ff;\n",
       "            color:  #f1f1f1;\n",
       "        }    #T_0f5edc56_9746_11e9_88c1_d46a6aa6cb2drow3_col6 {\n",
       "            background-color:  #6a6aff;\n",
       "            color:  #000000;\n",
       "        }    #T_0f5edc56_9746_11e9_88c1_d46a6aa6cb2drow3_col7 {\n",
       "            background-color:  #6868ff;\n",
       "            color:  #000000;\n",
       "        }    #T_0f5edc56_9746_11e9_88c1_d46a6aa6cb2drow3_col8 {\n",
       "            background-color:  #8686ff;\n",
       "            color:  #000000;\n",
       "        }    #T_0f5edc56_9746_11e9_88c1_d46a6aa6cb2drow3_col9 {\n",
       "            background-color:  #c0c0ff;\n",
       "            color:  #000000;\n",
       "        }    #T_0f5edc56_9746_11e9_88c1_d46a6aa6cb2drow3_col10 {\n",
       "            background-color:  #a4a4ff;\n",
       "            color:  #000000;\n",
       "        }    #T_0f5edc56_9746_11e9_88c1_d46a6aa6cb2drow3_col11 {\n",
       "            background-color:  #d6d6ff;\n",
       "            color:  #000000;\n",
       "        }    #T_0f5edc56_9746_11e9_88c1_d46a6aa6cb2drow3_col12 {\n",
       "            background-color:  #7c7cff;\n",
       "            color:  #000000;\n",
       "        }    #T_0f5edc56_9746_11e9_88c1_d46a6aa6cb2drow4_col0 {\n",
       "            background-color:  #5656ff;\n",
       "            color:  #f1f1f1;\n",
       "        }    #T_0f5edc56_9746_11e9_88c1_d46a6aa6cb2drow4_col1 {\n",
       "            background-color:  #2020ff;\n",
       "            color:  #f1f1f1;\n",
       "        }    #T_0f5edc56_9746_11e9_88c1_d46a6aa6cb2drow4_col2 {\n",
       "            background-color:  #1414ff;\n",
       "            color:  #f1f1f1;\n",
       "        }    #T_0f5edc56_9746_11e9_88c1_d46a6aa6cb2drow4_col3 {\n",
       "            background-color:  #2424ff;\n",
       "            color:  #f1f1f1;\n",
       "        }    #T_0f5edc56_9746_11e9_88c1_d46a6aa6cb2drow4_col4 {\n",
       "            background-color:  #ff0000;\n",
       "            color:  #f1f1f1;\n",
       "        }    #T_0f5edc56_9746_11e9_88c1_d46a6aa6cb2drow4_col5 {\n",
       "            background-color:  #1010ff;\n",
       "            color:  #f1f1f1;\n",
       "        }    #T_0f5edc56_9746_11e9_88c1_d46a6aa6cb2drow4_col6 {\n",
       "            background-color:  #2e2eff;\n",
       "            color:  #f1f1f1;\n",
       "        }    #T_0f5edc56_9746_11e9_88c1_d46a6aa6cb2drow4_col7 {\n",
       "            background-color:  #2020ff;\n",
       "            color:  #f1f1f1;\n",
       "        }    #T_0f5edc56_9746_11e9_88c1_d46a6aa6cb2drow4_col8 {\n",
       "            background-color:  #0000ff;\n",
       "            color:  #f1f1f1;\n",
       "        }    #T_0f5edc56_9746_11e9_88c1_d46a6aa6cb2drow4_col9 {\n",
       "            background-color:  #1414ff;\n",
       "            color:  #f1f1f1;\n",
       "        }    #T_0f5edc56_9746_11e9_88c1_d46a6aa6cb2drow4_col10 {\n",
       "            background-color:  #7676ff;\n",
       "            color:  #000000;\n",
       "        }    #T_0f5edc56_9746_11e9_88c1_d46a6aa6cb2drow4_col11 {\n",
       "            background-color:  #2c2cff;\n",
       "            color:  #f1f1f1;\n",
       "        }    #T_0f5edc56_9746_11e9_88c1_d46a6aa6cb2drow4_col12 {\n",
       "            background-color:  #2a2aff;\n",
       "            color:  #f1f1f1;\n",
       "        }    #T_0f5edc56_9746_11e9_88c1_d46a6aa6cb2drow5_col0 {\n",
       "            background-color:  #9c9cff;\n",
       "            color:  #000000;\n",
       "        }    #T_0f5edc56_9746_11e9_88c1_d46a6aa6cb2drow5_col1 {\n",
       "            background-color:  #7878ff;\n",
       "            color:  #000000;\n",
       "        }    #T_0f5edc56_9746_11e9_88c1_d46a6aa6cb2drow5_col2 {\n",
       "            background-color:  #c6c6ff;\n",
       "            color:  #000000;\n",
       "        }    #T_0f5edc56_9746_11e9_88c1_d46a6aa6cb2drow5_col3 {\n",
       "            background-color:  #0000ff;\n",
       "            color:  #f1f1f1;\n",
       "        }    #T_0f5edc56_9746_11e9_88c1_d46a6aa6cb2drow5_col4 {\n",
       "            background-color:  #7878ff;\n",
       "            color:  #000000;\n",
       "        }    #T_0f5edc56_9746_11e9_88c1_d46a6aa6cb2drow5_col5 {\n",
       "            background-color:  #ff0000;\n",
       "            color:  #f1f1f1;\n",
       "        }    #T_0f5edc56_9746_11e9_88c1_d46a6aa6cb2drow5_col6 {\n",
       "            background-color:  #a8a8ff;\n",
       "            color:  #000000;\n",
       "        }    #T_0f5edc56_9746_11e9_88c1_d46a6aa6cb2drow5_col7 {\n",
       "            background-color:  #a0a0ff;\n",
       "            color:  #000000;\n",
       "        }    #T_0f5edc56_9746_11e9_88c1_d46a6aa6cb2drow5_col8 {\n",
       "            background-color:  #6262ff;\n",
       "            color:  #000000;\n",
       "        }    #T_0f5edc56_9746_11e9_88c1_d46a6aa6cb2drow5_col9 {\n",
       "            background-color:  #7676ff;\n",
       "            color:  #000000;\n",
       "        }    #T_0f5edc56_9746_11e9_88c1_d46a6aa6cb2drow5_col10 {\n",
       "            background-color:  #8484ff;\n",
       "            color:  #000000;\n",
       "        }    #T_0f5edc56_9746_11e9_88c1_d46a6aa6cb2drow5_col11 {\n",
       "            background-color:  #6868ff;\n",
       "            color:  #000000;\n",
       "        }    #T_0f5edc56_9746_11e9_88c1_d46a6aa6cb2drow5_col12 {\n",
       "            background-color:  #7676ff;\n",
       "            color:  #000000;\n",
       "        }    #T_0f5edc56_9746_11e9_88c1_d46a6aa6cb2drow6_col0 {\n",
       "            background-color:  #2424ff;\n",
       "            color:  #f1f1f1;\n",
       "        }    #T_0f5edc56_9746_11e9_88c1_d46a6aa6cb2drow6_col1 {\n",
       "            background-color:  #2424ff;\n",
       "            color:  #f1f1f1;\n",
       "        }    #T_0f5edc56_9746_11e9_88c1_d46a6aa6cb2drow6_col2 {\n",
       "            background-color:  #1414ff;\n",
       "            color:  #f1f1f1;\n",
       "        }    #T_0f5edc56_9746_11e9_88c1_d46a6aa6cb2drow6_col3 {\n",
       "            background-color:  #0202ff;\n",
       "            color:  #f1f1f1;\n",
       "        }    #T_0f5edc56_9746_11e9_88c1_d46a6aa6cb2drow6_col4 {\n",
       "            background-color:  #3232ff;\n",
       "            color:  #f1f1f1;\n",
       "        }    #T_0f5edc56_9746_11e9_88c1_d46a6aa6cb2drow6_col5 {\n",
       "            background-color:  #4e4eff;\n",
       "            color:  #f1f1f1;\n",
       "        }    #T_0f5edc56_9746_11e9_88c1_d46a6aa6cb2drow6_col6 {\n",
       "            background-color:  #ff0000;\n",
       "            color:  #f1f1f1;\n",
       "        }    #T_0f5edc56_9746_11e9_88c1_d46a6aa6cb2drow6_col7 {\n",
       "            background-color:  #ffa6a6;\n",
       "            color:  #000000;\n",
       "        }    #T_0f5edc56_9746_11e9_88c1_d46a6aa6cb2drow6_col8 {\n",
       "            background-color:  #0000ff;\n",
       "            color:  #f1f1f1;\n",
       "        }    #T_0f5edc56_9746_11e9_88c1_d46a6aa6cb2drow6_col9 {\n",
       "            background-color:  #2626ff;\n",
       "            color:  #f1f1f1;\n",
       "        }    #T_0f5edc56_9746_11e9_88c1_d46a6aa6cb2drow6_col10 {\n",
       "            background-color:  #4a4aff;\n",
       "            color:  #f1f1f1;\n",
       "        }    #T_0f5edc56_9746_11e9_88c1_d46a6aa6cb2drow6_col11 {\n",
       "            background-color:  #0a0aff;\n",
       "            color:  #f1f1f1;\n",
       "        }    #T_0f5edc56_9746_11e9_88c1_d46a6aa6cb2drow6_col12 {\n",
       "            background-color:  #3232ff;\n",
       "            color:  #f1f1f1;\n",
       "        }    #T_0f5edc56_9746_11e9_88c1_d46a6aa6cb2drow7_col0 {\n",
       "            background-color:  #2a2aff;\n",
       "            color:  #f1f1f1;\n",
       "        }    #T_0f5edc56_9746_11e9_88c1_d46a6aa6cb2drow7_col1 {\n",
       "            background-color:  #2222ff;\n",
       "            color:  #f1f1f1;\n",
       "        }    #T_0f5edc56_9746_11e9_88c1_d46a6aa6cb2drow7_col2 {\n",
       "            background-color:  #1e1eff;\n",
       "            color:  #f1f1f1;\n",
       "        }    #T_0f5edc56_9746_11e9_88c1_d46a6aa6cb2drow7_col3 {\n",
       "            background-color:  #0404ff;\n",
       "            color:  #f1f1f1;\n",
       "        }    #T_0f5edc56_9746_11e9_88c1_d46a6aa6cb2drow7_col4 {\n",
       "            background-color:  #2626ff;\n",
       "            color:  #f1f1f1;\n",
       "        }    #T_0f5edc56_9746_11e9_88c1_d46a6aa6cb2drow7_col5 {\n",
       "            background-color:  #4a4aff;\n",
       "            color:  #f1f1f1;\n",
       "        }    #T_0f5edc56_9746_11e9_88c1_d46a6aa6cb2drow7_col6 {\n",
       "            background-color:  #ffa4a4;\n",
       "            color:  #000000;\n",
       "        }    #T_0f5edc56_9746_11e9_88c1_d46a6aa6cb2drow7_col7 {\n",
       "            background-color:  #ff0000;\n",
       "            color:  #f1f1f1;\n",
       "        }    #T_0f5edc56_9746_11e9_88c1_d46a6aa6cb2drow7_col8 {\n",
       "            background-color:  #0000ff;\n",
       "            color:  #f1f1f1;\n",
       "        }    #T_0f5edc56_9746_11e9_88c1_d46a6aa6cb2drow7_col9 {\n",
       "            background-color:  #2222ff;\n",
       "            color:  #f1f1f1;\n",
       "        }    #T_0f5edc56_9746_11e9_88c1_d46a6aa6cb2drow7_col10 {\n",
       "            background-color:  #4444ff;\n",
       "            color:  #f1f1f1;\n",
       "        }    #T_0f5edc56_9746_11e9_88c1_d46a6aa6cb2drow7_col11 {\n",
       "            background-color:  #0c0cff;\n",
       "            color:  #f1f1f1;\n",
       "        }    #T_0f5edc56_9746_11e9_88c1_d46a6aa6cb2drow7_col12 {\n",
       "            background-color:  #3232ff;\n",
       "            color:  #f1f1f1;\n",
       "        }    #T_0f5edc56_9746_11e9_88c1_d46a6aa6cb2drow8_col0 {\n",
       "            background-color:  #0a0aff;\n",
       "            color:  #f1f1f1;\n",
       "        }    #T_0f5edc56_9746_11e9_88c1_d46a6aa6cb2drow8_col1 {\n",
       "            background-color:  #0000ff;\n",
       "            color:  #f1f1f1;\n",
       "        }    #T_0f5edc56_9746_11e9_88c1_d46a6aa6cb2drow8_col2 {\n",
       "            background-color:  #1212ff;\n",
       "            color:  #f1f1f1;\n",
       "        }    #T_0f5edc56_9746_11e9_88c1_d46a6aa6cb2drow8_col3 {\n",
       "            background-color:  #4242ff;\n",
       "            color:  #f1f1f1;\n",
       "        }    #T_0f5edc56_9746_11e9_88c1_d46a6aa6cb2drow8_col4 {\n",
       "            background-color:  #2222ff;\n",
       "            color:  #f1f1f1;\n",
       "        }    #T_0f5edc56_9746_11e9_88c1_d46a6aa6cb2drow8_col5 {\n",
       "            background-color:  #1616ff;\n",
       "            color:  #f1f1f1;\n",
       "        }    #T_0f5edc56_9746_11e9_88c1_d46a6aa6cb2drow8_col6 {\n",
       "            background-color:  #1e1eff;\n",
       "            color:  #f1f1f1;\n",
       "        }    #T_0f5edc56_9746_11e9_88c1_d46a6aa6cb2drow8_col7 {\n",
       "            background-color:  #1a1aff;\n",
       "            color:  #f1f1f1;\n",
       "        }    #T_0f5edc56_9746_11e9_88c1_d46a6aa6cb2drow8_col8 {\n",
       "            background-color:  #ff0000;\n",
       "            color:  #f1f1f1;\n",
       "        }    #T_0f5edc56_9746_11e9_88c1_d46a6aa6cb2drow8_col9 {\n",
       "            background-color:  #0000ff;\n",
       "            color:  #f1f1f1;\n",
       "        }    #T_0f5edc56_9746_11e9_88c1_d46a6aa6cb2drow8_col10 {\n",
       "            background-color:  #0808ff;\n",
       "            color:  #f1f1f1;\n",
       "        }    #T_0f5edc56_9746_11e9_88c1_d46a6aa6cb2drow8_col11 {\n",
       "            background-color:  #2222ff;\n",
       "            color:  #f1f1f1;\n",
       "        }    #T_0f5edc56_9746_11e9_88c1_d46a6aa6cb2drow8_col12 {\n",
       "            background-color:  #1414ff;\n",
       "            color:  #f1f1f1;\n",
       "        }    #T_0f5edc56_9746_11e9_88c1_d46a6aa6cb2drow9_col0 {\n",
       "            background-color:  #6a6aff;\n",
       "            color:  #000000;\n",
       "        }    #T_0f5edc56_9746_11e9_88c1_d46a6aa6cb2drow9_col1 {\n",
       "            background-color:  #ff4848;\n",
       "            color:  #000000;\n",
       "        }    #T_0f5edc56_9746_11e9_88c1_d46a6aa6cb2drow9_col2 {\n",
       "            background-color:  #1e1eff;\n",
       "            color:  #f1f1f1;\n",
       "        }    #T_0f5edc56_9746_11e9_88c1_d46a6aa6cb2drow9_col3 {\n",
       "            background-color:  #8686ff;\n",
       "            color:  #000000;\n",
       "        }    #T_0f5edc56_9746_11e9_88c1_d46a6aa6cb2drow9_col4 {\n",
       "            background-color:  #3434ff;\n",
       "            color:  #f1f1f1;\n",
       "        }    #T_0f5edc56_9746_11e9_88c1_d46a6aa6cb2drow9_col5 {\n",
       "            background-color:  #2e2eff;\n",
       "            color:  #f1f1f1;\n",
       "        }    #T_0f5edc56_9746_11e9_88c1_d46a6aa6cb2drow9_col6 {\n",
       "            background-color:  #4444ff;\n",
       "            color:  #f1f1f1;\n",
       "        }    #T_0f5edc56_9746_11e9_88c1_d46a6aa6cb2drow9_col7 {\n",
       "            background-color:  #3c3cff;\n",
       "            color:  #f1f1f1;\n",
       "        }    #T_0f5edc56_9746_11e9_88c1_d46a6aa6cb2drow9_col8 {\n",
       "            background-color:  #0000ff;\n",
       "            color:  #f1f1f1;\n",
       "        }    #T_0f5edc56_9746_11e9_88c1_d46a6aa6cb2drow9_col9 {\n",
       "            background-color:  #ff0000;\n",
       "            color:  #f1f1f1;\n",
       "        }    #T_0f5edc56_9746_11e9_88c1_d46a6aa6cb2drow9_col10 {\n",
       "            background-color:  #4242ff;\n",
       "            color:  #f1f1f1;\n",
       "        }    #T_0f5edc56_9746_11e9_88c1_d46a6aa6cb2drow9_col11 {\n",
       "            background-color:  #6060ff;\n",
       "            color:  #000000;\n",
       "        }    #T_0f5edc56_9746_11e9_88c1_d46a6aa6cb2drow9_col12 {\n",
       "            background-color:  #4848ff;\n",
       "            color:  #f1f1f1;\n",
       "        }    #T_0f5edc56_9746_11e9_88c1_d46a6aa6cb2drow10_col0 {\n",
       "            background-color:  #dcdcff;\n",
       "            color:  #000000;\n",
       "        }    #T_0f5edc56_9746_11e9_88c1_d46a6aa6cb2drow10_col1 {\n",
       "            background-color:  #5252ff;\n",
       "            color:  #f1f1f1;\n",
       "        }    #T_0f5edc56_9746_11e9_88c1_d46a6aa6cb2drow10_col2 {\n",
       "            background-color:  #4e4eff;\n",
       "            color:  #f1f1f1;\n",
       "        }    #T_0f5edc56_9746_11e9_88c1_d46a6aa6cb2drow10_col3 {\n",
       "            background-color:  #5e5eff;\n",
       "            color:  #000000;\n",
       "        }    #T_0f5edc56_9746_11e9_88c1_d46a6aa6cb2drow10_col4 {\n",
       "            background-color:  #8a8aff;\n",
       "            color:  #000000;\n",
       "        }    #T_0f5edc56_9746_11e9_88c1_d46a6aa6cb2drow10_col5 {\n",
       "            background-color:  #3636ff;\n",
       "            color:  #f1f1f1;\n",
       "        }    #T_0f5edc56_9746_11e9_88c1_d46a6aa6cb2drow10_col6 {\n",
       "            background-color:  #5c5cff;\n",
       "            color:  #f1f1f1;\n",
       "        }    #T_0f5edc56_9746_11e9_88c1_d46a6aa6cb2drow10_col7 {\n",
       "            background-color:  #5252ff;\n",
       "            color:  #f1f1f1;\n",
       "        }    #T_0f5edc56_9746_11e9_88c1_d46a6aa6cb2drow10_col8 {\n",
       "            background-color:  #0000ff;\n",
       "            color:  #f1f1f1;\n",
       "        }    #T_0f5edc56_9746_11e9_88c1_d46a6aa6cb2drow10_col9 {\n",
       "            background-color:  #3a3aff;\n",
       "            color:  #f1f1f1;\n",
       "        }    #T_0f5edc56_9746_11e9_88c1_d46a6aa6cb2drow10_col10 {\n",
       "            background-color:  #ff0000;\n",
       "            color:  #f1f1f1;\n",
       "        }    #T_0f5edc56_9746_11e9_88c1_d46a6aa6cb2drow10_col11 {\n",
       "            background-color:  #0c0cff;\n",
       "            color:  #f1f1f1;\n",
       "        }    #T_0f5edc56_9746_11e9_88c1_d46a6aa6cb2drow10_col12 {\n",
       "            background-color:  #4a4aff;\n",
       "            color:  #f1f1f1;\n",
       "        }    #T_0f5edc56_9746_11e9_88c1_d46a6aa6cb2drow11_col0 {\n",
       "            background-color:  #9898ff;\n",
       "            color:  #000000;\n",
       "        }    #T_0f5edc56_9746_11e9_88c1_d46a6aa6cb2drow11_col1 {\n",
       "            background-color:  #5e5eff;\n",
       "            color:  #000000;\n",
       "        }    #T_0f5edc56_9746_11e9_88c1_d46a6aa6cb2drow11_col2 {\n",
       "            background-color:  #2020ff;\n",
       "            color:  #f1f1f1;\n",
       "        }    #T_0f5edc56_9746_11e9_88c1_d46a6aa6cb2drow11_col3 {\n",
       "            background-color:  #9292ff;\n",
       "            color:  #000000;\n",
       "        }    #T_0f5edc56_9746_11e9_88c1_d46a6aa6cb2drow11_col4 {\n",
       "            background-color:  #3c3cff;\n",
       "            color:  #f1f1f1;\n",
       "        }    #T_0f5edc56_9746_11e9_88c1_d46a6aa6cb2drow11_col5 {\n",
       "            background-color:  #0c0cff;\n",
       "            color:  #f1f1f1;\n",
       "        }    #T_0f5edc56_9746_11e9_88c1_d46a6aa6cb2drow11_col6 {\n",
       "            background-color:  #1616ff;\n",
       "            color:  #f1f1f1;\n",
       "        }    #T_0f5edc56_9746_11e9_88c1_d46a6aa6cb2drow11_col7 {\n",
       "            background-color:  #1616ff;\n",
       "            color:  #f1f1f1;\n",
       "        }    #T_0f5edc56_9746_11e9_88c1_d46a6aa6cb2drow11_col8 {\n",
       "            background-color:  #1010ff;\n",
       "            color:  #f1f1f1;\n",
       "        }    #T_0f5edc56_9746_11e9_88c1_d46a6aa6cb2drow11_col9 {\n",
       "            background-color:  #5050ff;\n",
       "            color:  #f1f1f1;\n",
       "        }    #T_0f5edc56_9746_11e9_88c1_d46a6aa6cb2drow11_col10 {\n",
       "            background-color:  #0404ff;\n",
       "            color:  #f1f1f1;\n",
       "        }    #T_0f5edc56_9746_11e9_88c1_d46a6aa6cb2drow11_col11 {\n",
       "            background-color:  #ff0000;\n",
       "            color:  #f1f1f1;\n",
       "        }    #T_0f5edc56_9746_11e9_88c1_d46a6aa6cb2drow11_col12 {\n",
       "            background-color:  #0000ff;\n",
       "            color:  #f1f1f1;\n",
       "        }    #T_0f5edc56_9746_11e9_88c1_d46a6aa6cb2drow12_col0 {\n",
       "            background-color:  #2222ff;\n",
       "            color:  #f1f1f1;\n",
       "        }    #T_0f5edc56_9746_11e9_88c1_d46a6aa6cb2drow12_col1 {\n",
       "            background-color:  #3030ff;\n",
       "            color:  #f1f1f1;\n",
       "        }    #T_0f5edc56_9746_11e9_88c1_d46a6aa6cb2drow12_col2 {\n",
       "            background-color:  #2222ff;\n",
       "            color:  #f1f1f1;\n",
       "        }    #T_0f5edc56_9746_11e9_88c1_d46a6aa6cb2drow12_col3 {\n",
       "            background-color:  #2424ff;\n",
       "            color:  #f1f1f1;\n",
       "        }    #T_0f5edc56_9746_11e9_88c1_d46a6aa6cb2drow12_col4 {\n",
       "            background-color:  #3a3aff;\n",
       "            color:  #f1f1f1;\n",
       "        }    #T_0f5edc56_9746_11e9_88c1_d46a6aa6cb2drow12_col5 {\n",
       "            background-color:  #1c1cff;\n",
       "            color:  #f1f1f1;\n",
       "        }    #T_0f5edc56_9746_11e9_88c1_d46a6aa6cb2drow12_col6 {\n",
       "            background-color:  #3e3eff;\n",
       "            color:  #f1f1f1;\n",
       "        }    #T_0f5edc56_9746_11e9_88c1_d46a6aa6cb2drow12_col7 {\n",
       "            background-color:  #3c3cff;\n",
       "            color:  #f1f1f1;\n",
       "        }    #T_0f5edc56_9746_11e9_88c1_d46a6aa6cb2drow12_col8 {\n",
       "            background-color:  #0202ff;\n",
       "            color:  #f1f1f1;\n",
       "        }    #T_0f5edc56_9746_11e9_88c1_d46a6aa6cb2drow12_col9 {\n",
       "            background-color:  #3838ff;\n",
       "            color:  #f1f1f1;\n",
       "        }    #T_0f5edc56_9746_11e9_88c1_d46a6aa6cb2drow12_col10 {\n",
       "            background-color:  #4242ff;\n",
       "            color:  #f1f1f1;\n",
       "        }    #T_0f5edc56_9746_11e9_88c1_d46a6aa6cb2drow12_col11 {\n",
       "            background-color:  #0000ff;\n",
       "            color:  #f1f1f1;\n",
       "        }    #T_0f5edc56_9746_11e9_88c1_d46a6aa6cb2drow12_col12 {\n",
       "            background-color:  #ff0000;\n",
       "            color:  #f1f1f1;\n",
       "        }</style><table id=\"T_0f5edc56_9746_11e9_88c1_d46a6aa6cb2d\" ><thead>    <tr>        <th class=\"blank level0\" ></th>        <th class=\"col_heading level0 col0\" >App</th>        <th class=\"col_heading level0 col1\" >Category</th>        <th class=\"col_heading level0 col2\" >Rating</th>        <th class=\"col_heading level0 col3\" >Reviews</th>        <th class=\"col_heading level0 col4\" >Size</th>        <th class=\"col_heading level0 col5\" >Installs</th>        <th class=\"col_heading level0 col6\" >Type</th>        <th class=\"col_heading level0 col7\" >Price</th>        <th class=\"col_heading level0 col8\" >Content Rating</th>        <th class=\"col_heading level0 col9\" >Genres</th>        <th class=\"col_heading level0 col10\" >Last Updated</th>        <th class=\"col_heading level0 col11\" >Current Ver</th>        <th class=\"col_heading level0 col12\" >Android Ver</th>    </tr></thead><tbody>\n",
       "                <tr>\n",
       "                        <th id=\"T_0f5edc56_9746_11e9_88c1_d46a6aa6cb2dlevel0_row0\" class=\"row_heading level0 row0\" >App</th>\n",
       "                        <td id=\"T_0f5edc56_9746_11e9_88c1_d46a6aa6cb2drow0_col0\" class=\"data row0 col0\" >1.0</td>\n",
       "                        <td id=\"T_0f5edc56_9746_11e9_88c1_d46a6aa6cb2drow0_col1\" class=\"data row0 col1\" >0.26</td>\n",
       "                        <td id=\"T_0f5edc56_9746_11e9_88c1_d46a6aa6cb2drow0_col2\" class=\"data row0 col2\" >0.17</td>\n",
       "                        <td id=\"T_0f5edc56_9746_11e9_88c1_d46a6aa6cb2drow0_col3\" class=\"data row0 col3\" >0.5</td>\n",
       "                        <td id=\"T_0f5edc56_9746_11e9_88c1_d46a6aa6cb2drow0_col4\" class=\"data row0 col4\" >0.16</td>\n",
       "                        <td id=\"T_0f5edc56_9746_11e9_88c1_d46a6aa6cb2drow0_col5\" class=\"data row0 col5\" >0.11</td>\n",
       "                        <td id=\"T_0f5edc56_9746_11e9_88c1_d46a6aa6cb2drow0_col6\" class=\"data row0 col6\" >0.049</td>\n",
       "                        <td id=\"T_0f5edc56_9746_11e9_88c1_d46a6aa6cb2drow0_col7\" class=\"data row0 col7\" >0.053</td>\n",
       "                        <td id=\"T_0f5edc56_9746_11e9_88c1_d46a6aa6cb2drow0_col8\" class=\"data row0 col8\" >-0.068</td>\n",
       "                        <td id=\"T_0f5edc56_9746_11e9_88c1_d46a6aa6cb2drow0_col9\" class=\"data row0 col9\" >0.14</td>\n",
       "                        <td id=\"T_0f5edc56_9746_11e9_88c1_d46a6aa6cb2drow0_col10\" class=\"data row0 col10\" >0.39</td>\n",
       "                        <td id=\"T_0f5edc56_9746_11e9_88c1_d46a6aa6cb2drow0_col11\" class=\"data row0 col11\" >0.26</td>\n",
       "                        <td id=\"T_0f5edc56_9746_11e9_88c1_d46a6aa6cb2drow0_col12\" class=\"data row0 col12\" >0.019</td>\n",
       "            </tr>\n",
       "            <tr>\n",
       "                        <th id=\"T_0f5edc56_9746_11e9_88c1_d46a6aa6cb2dlevel0_row1\" class=\"row_heading level0 row1\" >Category</th>\n",
       "                        <td id=\"T_0f5edc56_9746_11e9_88c1_d46a6aa6cb2drow1_col0\" class=\"data row1 col0\" >0.26</td>\n",
       "                        <td id=\"T_0f5edc56_9746_11e9_88c1_d46a6aa6cb2drow1_col1\" class=\"data row1 col1\" >1.0</td>\n",
       "                        <td id=\"T_0f5edc56_9746_11e9_88c1_d46a6aa6cb2drow1_col2\" class=\"data row1 col2\" >-0.006</td>\n",
       "                        <td id=\"T_0f5edc56_9746_11e9_88c1_d46a6aa6cb2drow1_col3\" class=\"data row1 col3\" >0.29</td>\n",
       "                        <td id=\"T_0f5edc56_9746_11e9_88c1_d46a6aa6cb2drow1_col4\" class=\"data row1 col4\" >0.05</td>\n",
       "                        <td id=\"T_0f5edc56_9746_11e9_88c1_d46a6aa6cb2drow1_col5\" class=\"data row1 col5\" >0.015</td>\n",
       "                        <td id=\"T_0f5edc56_9746_11e9_88c1_d46a6aa6cb2drow1_col6\" class=\"data row1 col6\" >0.047</td>\n",
       "                        <td id=\"T_0f5edc56_9746_11e9_88c1_d46a6aa6cb2drow1_col7\" class=\"data row1 col7\" >0.037</td>\n",
       "                        <td id=\"T_0f5edc56_9746_11e9_88c1_d46a6aa6cb2drow1_col8\" class=\"data row1 col8\" >-0.088</td>\n",
       "                        <td id=\"T_0f5edc56_9746_11e9_88c1_d46a6aa6cb2drow1_col9\" class=\"data row1 col9\" >0.85</td>\n",
       "                        <td id=\"T_0f5edc56_9746_11e9_88c1_d46a6aa6cb2drow1_col10\" class=\"data row1 col10\" >0.1</td>\n",
       "                        <td id=\"T_0f5edc56_9746_11e9_88c1_d46a6aa6cb2drow1_col11\" class=\"data row1 col11\" >0.14</td>\n",
       "                        <td id=\"T_0f5edc56_9746_11e9_88c1_d46a6aa6cb2drow1_col12\" class=\"data row1 col12\" >0.048</td>\n",
       "            </tr>\n",
       "            <tr>\n",
       "                        <th id=\"T_0f5edc56_9746_11e9_88c1_d46a6aa6cb2dlevel0_row2\" class=\"row_heading level0 row2\" >Rating</th>\n",
       "                        <td id=\"T_0f5edc56_9746_11e9_88c1_d46a6aa6cb2drow2_col0\" class=\"data row2 col0\" >0.17</td>\n",
       "                        <td id=\"T_0f5edc56_9746_11e9_88c1_d46a6aa6cb2drow2_col1\" class=\"data row2 col1\" >-0.006</td>\n",
       "                        <td id=\"T_0f5edc56_9746_11e9_88c1_d46a6aa6cb2drow2_col2\" class=\"data row2 col2\" >1.0</td>\n",
       "                        <td id=\"T_0f5edc56_9746_11e9_88c1_d46a6aa6cb2drow2_col3\" class=\"data row2 col3\" >-0.13</td>\n",
       "                        <td id=\"T_0f5edc56_9746_11e9_88c1_d46a6aa6cb2drow2_col4\" class=\"data row2 col4\" >0.026</td>\n",
       "                        <td id=\"T_0f5edc56_9746_11e9_88c1_d46a6aa6cb2drow2_col5\" class=\"data row2 col5\" >0.21</td>\n",
       "                        <td id=\"T_0f5edc56_9746_11e9_88c1_d46a6aa6cb2drow2_col6\" class=\"data row2 col6\" >0.017</td>\n",
       "                        <td id=\"T_0f5edc56_9746_11e9_88c1_d46a6aa6cb2drow2_col7\" class=\"data row2 col7\" >0.028</td>\n",
       "                        <td id=\"T_0f5edc56_9746_11e9_88c1_d46a6aa6cb2drow2_col8\" class=\"data row2 col8\" >-0.048</td>\n",
       "                        <td id=\"T_0f5edc56_9746_11e9_88c1_d46a6aa6cb2drow2_col9\" class=\"data row2 col9\" >-0.022</td>\n",
       "                        <td id=\"T_0f5edc56_9746_11e9_88c1_d46a6aa6cb2drow2_col10\" class=\"data row2 col10\" >0.097</td>\n",
       "                        <td id=\"T_0f5edc56_9746_11e9_88c1_d46a6aa6cb2drow2_col11\" class=\"data row2 col11\" >0.016</td>\n",
       "                        <td id=\"T_0f5edc56_9746_11e9_88c1_d46a6aa6cb2drow2_col12\" class=\"data row2 col12\" >0.018</td>\n",
       "            </tr>\n",
       "            <tr>\n",
       "                        <th id=\"T_0f5edc56_9746_11e9_88c1_d46a6aa6cb2dlevel0_row3\" class=\"row_heading level0 row3\" >Reviews</th>\n",
       "                        <td id=\"T_0f5edc56_9746_11e9_88c1_d46a6aa6cb2drow3_col0\" class=\"data row3 col0\" >0.5</td>\n",
       "                        <td id=\"T_0f5edc56_9746_11e9_88c1_d46a6aa6cb2drow3_col1\" class=\"data row3 col1\" >0.29</td>\n",
       "                        <td id=\"T_0f5edc56_9746_11e9_88c1_d46a6aa6cb2drow3_col2\" class=\"data row3 col2\" >-0.13</td>\n",
       "                        <td id=\"T_0f5edc56_9746_11e9_88c1_d46a6aa6cb2drow3_col3\" class=\"data row3 col3\" >1.0</td>\n",
       "                        <td id=\"T_0f5edc56_9746_11e9_88c1_d46a6aa6cb2drow3_col4\" class=\"data row3 col4\" >0.055</td>\n",
       "                        <td id=\"T_0f5edc56_9746_11e9_88c1_d46a6aa6cb2drow3_col5\" class=\"data row3 col5\" >-0.29</td>\n",
       "                        <td id=\"T_0f5edc56_9746_11e9_88c1_d46a6aa6cb2drow3_col6\" class=\"data row3 col6\" >-0.02</td>\n",
       "                        <td id=\"T_0f5edc56_9746_11e9_88c1_d46a6aa6cb2drow3_col7\" class=\"data row3 col7\" >-0.024</td>\n",
       "                        <td id=\"T_0f5edc56_9746_11e9_88c1_d46a6aa6cb2drow3_col8\" class=\"data row3 col8\" >0.051</td>\n",
       "                        <td id=\"T_0f5edc56_9746_11e9_88c1_d46a6aa6cb2drow3_col9\" class=\"data row3 col9\" >0.2</td>\n",
       "                        <td id=\"T_0f5edc56_9746_11e9_88c1_d46a6aa6cb2drow3_col10\" class=\"data row3 col10\" >0.13</td>\n",
       "                        <td id=\"T_0f5edc56_9746_11e9_88c1_d46a6aa6cb2drow3_col11\" class=\"data row3 col11\" >0.25</td>\n",
       "                        <td id=\"T_0f5edc56_9746_11e9_88c1_d46a6aa6cb2drow3_col12\" class=\"data row3 col12\" >0.025</td>\n",
       "            </tr>\n",
       "            <tr>\n",
       "                        <th id=\"T_0f5edc56_9746_11e9_88c1_d46a6aa6cb2dlevel0_row4\" class=\"row_heading level0 row4\" >Size</th>\n",
       "                        <td id=\"T_0f5edc56_9746_11e9_88c1_d46a6aa6cb2drow4_col0\" class=\"data row4 col0\" >0.16</td>\n",
       "                        <td id=\"T_0f5edc56_9746_11e9_88c1_d46a6aa6cb2drow4_col1\" class=\"data row4 col1\" >0.05</td>\n",
       "                        <td id=\"T_0f5edc56_9746_11e9_88c1_d46a6aa6cb2drow4_col2\" class=\"data row4 col2\" >0.026</td>\n",
       "                        <td id=\"T_0f5edc56_9746_11e9_88c1_d46a6aa6cb2drow4_col3\" class=\"data row4 col3\" >0.055</td>\n",
       "                        <td id=\"T_0f5edc56_9746_11e9_88c1_d46a6aa6cb2drow4_col4\" class=\"data row4 col4\" >1.0</td>\n",
       "                        <td id=\"T_0f5edc56_9746_11e9_88c1_d46a6aa6cb2drow4_col5\" class=\"data row4 col5\" >0.017</td>\n",
       "                        <td id=\"T_0f5edc56_9746_11e9_88c1_d46a6aa6cb2drow4_col6\" class=\"data row4 col6\" >0.075</td>\n",
       "                        <td id=\"T_0f5edc56_9746_11e9_88c1_d46a6aa6cb2drow4_col7\" class=\"data row4 col7\" >0.047</td>\n",
       "                        <td id=\"T_0f5edc56_9746_11e9_88c1_d46a6aa6cb2drow4_col8\" class=\"data row4 col8\" >-0.017</td>\n",
       "                        <td id=\"T_0f5edc56_9746_11e9_88c1_d46a6aa6cb2drow4_col9\" class=\"data row4 col9\" >0.024</td>\n",
       "                        <td id=\"T_0f5edc56_9746_11e9_88c1_d46a6aa6cb2drow4_col10\" class=\"data row4 col10\" >0.22</td>\n",
       "                        <td id=\"T_0f5edc56_9746_11e9_88c1_d46a6aa6cb2drow4_col11\" class=\"data row4 col11\" >0.072</td>\n",
       "                        <td id=\"T_0f5edc56_9746_11e9_88c1_d46a6aa6cb2drow4_col12\" class=\"data row4 col12\" >0.067</td>\n",
       "            </tr>\n",
       "            <tr>\n",
       "                        <th id=\"T_0f5edc56_9746_11e9_88c1_d46a6aa6cb2dlevel0_row5\" class=\"row_heading level0 row5\" >Installs</th>\n",
       "                        <td id=\"T_0f5edc56_9746_11e9_88c1_d46a6aa6cb2drow5_col0\" class=\"data row5 col0\" >0.11</td>\n",
       "                        <td id=\"T_0f5edc56_9746_11e9_88c1_d46a6aa6cb2drow5_col1\" class=\"data row5 col1\" >0.015</td>\n",
       "                        <td id=\"T_0f5edc56_9746_11e9_88c1_d46a6aa6cb2drow5_col2\" class=\"data row5 col2\" >0.21</td>\n",
       "                        <td id=\"T_0f5edc56_9746_11e9_88c1_d46a6aa6cb2drow5_col3\" class=\"data row5 col3\" >-0.29</td>\n",
       "                        <td id=\"T_0f5edc56_9746_11e9_88c1_d46a6aa6cb2drow5_col4\" class=\"data row5 col4\" >0.017</td>\n",
       "                        <td id=\"T_0f5edc56_9746_11e9_88c1_d46a6aa6cb2drow5_col5\" class=\"data row5 col5\" >1.0</td>\n",
       "                        <td id=\"T_0f5edc56_9746_11e9_88c1_d46a6aa6cb2drow5_col6\" class=\"data row5 col6\" >0.13</td>\n",
       "                        <td id=\"T_0f5edc56_9746_11e9_88c1_d46a6aa6cb2drow5_col7\" class=\"data row5 col7\" >0.12</td>\n",
       "                        <td id=\"T_0f5edc56_9746_11e9_88c1_d46a6aa6cb2drow5_col8\" class=\"data row5 col8\" >-0.043</td>\n",
       "                        <td id=\"T_0f5edc56_9746_11e9_88c1_d46a6aa6cb2drow5_col9\" class=\"data row5 col9\" >0.011</td>\n",
       "                        <td id=\"T_0f5edc56_9746_11e9_88c1_d46a6aa6cb2drow5_col10\" class=\"data row5 col10\" >0.046</td>\n",
       "                        <td id=\"T_0f5edc56_9746_11e9_88c1_d46a6aa6cb2drow5_col11\" class=\"data row5 col11\" >-0.026</td>\n",
       "                        <td id=\"T_0f5edc56_9746_11e9_88c1_d46a6aa6cb2drow5_col12\" class=\"data row5 col12\" >0.0072</td>\n",
       "            </tr>\n",
       "            <tr>\n",
       "                        <th id=\"T_0f5edc56_9746_11e9_88c1_d46a6aa6cb2dlevel0_row6\" class=\"row_heading level0 row6\" >Type</th>\n",
       "                        <td id=\"T_0f5edc56_9746_11e9_88c1_d46a6aa6cb2drow6_col0\" class=\"data row6 col0\" >0.049</td>\n",
       "                        <td id=\"T_0f5edc56_9746_11e9_88c1_d46a6aa6cb2drow6_col1\" class=\"data row6 col1\" >0.047</td>\n",
       "                        <td id=\"T_0f5edc56_9746_11e9_88c1_d46a6aa6cb2drow6_col2\" class=\"data row6 col2\" >0.017</td>\n",
       "                        <td id=\"T_0f5edc56_9746_11e9_88c1_d46a6aa6cb2drow6_col3\" class=\"data row6 col3\" >-0.02</td>\n",
       "                        <td id=\"T_0f5edc56_9746_11e9_88c1_d46a6aa6cb2drow6_col4\" class=\"data row6 col4\" >0.075</td>\n",
       "                        <td id=\"T_0f5edc56_9746_11e9_88c1_d46a6aa6cb2drow6_col5\" class=\"data row6 col5\" >0.13</td>\n",
       "                        <td id=\"T_0f5edc56_9746_11e9_88c1_d46a6aa6cb2drow6_col6\" class=\"data row6 col6\" >1.0</td>\n",
       "                        <td id=\"T_0f5edc56_9746_11e9_88c1_d46a6aa6cb2drow6_col7\" class=\"data row6 col7\" >0.67</td>\n",
       "                        <td id=\"T_0f5edc56_9746_11e9_88c1_d46a6aa6cb2drow6_col8\" class=\"data row6 col8\" >-0.025</td>\n",
       "                        <td id=\"T_0f5edc56_9746_11e9_88c1_d46a6aa6cb2drow6_col9\" class=\"data row6 col9\" >0.055</td>\n",
       "                        <td id=\"T_0f5edc56_9746_11e9_88c1_d46a6aa6cb2drow6_col10\" class=\"data row6 col10\" >0.13</td>\n",
       "                        <td id=\"T_0f5edc56_9746_11e9_88c1_d46a6aa6cb2drow6_col11\" class=\"data row6 col11\" >-0.0044</td>\n",
       "                        <td id=\"T_0f5edc56_9746_11e9_88c1_d46a6aa6cb2drow6_col12\" class=\"data row6 col12\" >0.078</td>\n",
       "            </tr>\n",
       "            <tr>\n",
       "                        <th id=\"T_0f5edc56_9746_11e9_88c1_d46a6aa6cb2dlevel0_row7\" class=\"row_heading level0 row7\" >Price</th>\n",
       "                        <td id=\"T_0f5edc56_9746_11e9_88c1_d46a6aa6cb2drow7_col0\" class=\"data row7 col0\" >0.053</td>\n",
       "                        <td id=\"T_0f5edc56_9746_11e9_88c1_d46a6aa6cb2drow7_col1\" class=\"data row7 col1\" >0.037</td>\n",
       "                        <td id=\"T_0f5edc56_9746_11e9_88c1_d46a6aa6cb2drow7_col2\" class=\"data row7 col2\" >0.028</td>\n",
       "                        <td id=\"T_0f5edc56_9746_11e9_88c1_d46a6aa6cb2drow7_col3\" class=\"data row7 col3\" >-0.024</td>\n",
       "                        <td id=\"T_0f5edc56_9746_11e9_88c1_d46a6aa6cb2drow7_col4\" class=\"data row7 col4\" >0.047</td>\n",
       "                        <td id=\"T_0f5edc56_9746_11e9_88c1_d46a6aa6cb2drow7_col5\" class=\"data row7 col5\" >0.12</td>\n",
       "                        <td id=\"T_0f5edc56_9746_11e9_88c1_d46a6aa6cb2drow7_col6\" class=\"data row7 col6\" >0.67</td>\n",
       "                        <td id=\"T_0f5edc56_9746_11e9_88c1_d46a6aa6cb2drow7_col7\" class=\"data row7 col7\" >1.0</td>\n",
       "                        <td id=\"T_0f5edc56_9746_11e9_88c1_d46a6aa6cb2drow7_col8\" class=\"data row7 col8\" >-0.033</td>\n",
       "                        <td id=\"T_0f5edc56_9746_11e9_88c1_d46a6aa6cb2drow7_col9\" class=\"data row7 col9\" >0.039</td>\n",
       "                        <td id=\"T_0f5edc56_9746_11e9_88c1_d46a6aa6cb2drow7_col10\" class=\"data row7 col10\" >0.1</td>\n",
       "                        <td id=\"T_0f5edc56_9746_11e9_88c1_d46a6aa6cb2drow7_col11\" class=\"data row7 col11\" >-0.007</td>\n",
       "                        <td id=\"T_0f5edc56_9746_11e9_88c1_d46a6aa6cb2drow7_col12\" class=\"data row7 col12\" >0.07</td>\n",
       "            </tr>\n",
       "            <tr>\n",
       "                        <th id=\"T_0f5edc56_9746_11e9_88c1_d46a6aa6cb2dlevel0_row8\" class=\"row_heading level0 row8\" >Content Rating</th>\n",
       "                        <td id=\"T_0f5edc56_9746_11e9_88c1_d46a6aa6cb2drow8_col0\" class=\"data row8 col0\" >-0.068</td>\n",
       "                        <td id=\"T_0f5edc56_9746_11e9_88c1_d46a6aa6cb2drow8_col1\" class=\"data row8 col1\" >-0.088</td>\n",
       "                        <td id=\"T_0f5edc56_9746_11e9_88c1_d46a6aa6cb2drow8_col2\" class=\"data row8 col2\" >-0.048</td>\n",
       "                        <td id=\"T_0f5edc56_9746_11e9_88c1_d46a6aa6cb2drow8_col3\" class=\"data row8 col3\" >0.051</td>\n",
       "                        <td id=\"T_0f5edc56_9746_11e9_88c1_d46a6aa6cb2drow8_col4\" class=\"data row8 col4\" >-0.017</td>\n",
       "                        <td id=\"T_0f5edc56_9746_11e9_88c1_d46a6aa6cb2drow8_col5\" class=\"data row8 col5\" >-0.043</td>\n",
       "                        <td id=\"T_0f5edc56_9746_11e9_88c1_d46a6aa6cb2drow8_col6\" class=\"data row8 col6\" >-0.025</td>\n",
       "                        <td id=\"T_0f5edc56_9746_11e9_88c1_d46a6aa6cb2drow8_col7\" class=\"data row8 col7\" >-0.033</td>\n",
       "                        <td id=\"T_0f5edc56_9746_11e9_88c1_d46a6aa6cb2drow8_col8\" class=\"data row8 col8\" >1.0</td>\n",
       "                        <td id=\"T_0f5edc56_9746_11e9_88c1_d46a6aa6cb2drow8_col9\" class=\"data row8 col9\" >-0.091</td>\n",
       "                        <td id=\"T_0f5edc56_9746_11e9_88c1_d46a6aa6cb2drow8_col10\" class=\"data row8 col10\" >-0.069</td>\n",
       "                        <td id=\"T_0f5edc56_9746_11e9_88c1_d46a6aa6cb2drow8_col11\" class=\"data row8 col11\" >-0.017</td>\n",
       "                        <td id=\"T_0f5edc56_9746_11e9_88c1_d46a6aa6cb2drow8_col12\" class=\"data row8 col12\" >-0.046</td>\n",
       "            </tr>\n",
       "            <tr>\n",
       "                        <th id=\"T_0f5edc56_9746_11e9_88c1_d46a6aa6cb2dlevel0_row9\" class=\"row_heading level0 row9\" >Genres</th>\n",
       "                        <td id=\"T_0f5edc56_9746_11e9_88c1_d46a6aa6cb2drow9_col0\" class=\"data row9 col0\" >0.14</td>\n",
       "                        <td id=\"T_0f5edc56_9746_11e9_88c1_d46a6aa6cb2drow9_col1\" class=\"data row9 col1\" >0.85</td>\n",
       "                        <td id=\"T_0f5edc56_9746_11e9_88c1_d46a6aa6cb2drow9_col2\" class=\"data row9 col2\" >-0.022</td>\n",
       "                        <td id=\"T_0f5edc56_9746_11e9_88c1_d46a6aa6cb2drow9_col3\" class=\"data row9 col3\" >0.2</td>\n",
       "                        <td id=\"T_0f5edc56_9746_11e9_88c1_d46a6aa6cb2drow9_col4\" class=\"data row9 col4\" >0.024</td>\n",
       "                        <td id=\"T_0f5edc56_9746_11e9_88c1_d46a6aa6cb2drow9_col5\" class=\"data row9 col5\" >0.011</td>\n",
       "                        <td id=\"T_0f5edc56_9746_11e9_88c1_d46a6aa6cb2drow9_col6\" class=\"data row9 col6\" >0.055</td>\n",
       "                        <td id=\"T_0f5edc56_9746_11e9_88c1_d46a6aa6cb2drow9_col7\" class=\"data row9 col7\" >0.039</td>\n",
       "                        <td id=\"T_0f5edc56_9746_11e9_88c1_d46a6aa6cb2drow9_col8\" class=\"data row9 col8\" >-0.091</td>\n",
       "                        <td id=\"T_0f5edc56_9746_11e9_88c1_d46a6aa6cb2drow9_col9\" class=\"data row9 col9\" >1.0</td>\n",
       "                        <td id=\"T_0f5edc56_9746_11e9_88c1_d46a6aa6cb2drow9_col10\" class=\"data row9 col10\" >0.054</td>\n",
       "                        <td id=\"T_0f5edc56_9746_11e9_88c1_d46a6aa6cb2drow9_col11\" class=\"data row9 col11\" >0.11</td>\n",
       "                        <td id=\"T_0f5edc56_9746_11e9_88c1_d46a6aa6cb2drow9_col12\" class=\"data row9 col12\" >0.063</td>\n",
       "            </tr>\n",
       "            <tr>\n",
       "                        <th id=\"T_0f5edc56_9746_11e9_88c1_d46a6aa6cb2dlevel0_row10\" class=\"row_heading level0 row10\" >Last Updated</th>\n",
       "                        <td id=\"T_0f5edc56_9746_11e9_88c1_d46a6aa6cb2drow10_col0\" class=\"data row10 col0\" >0.39</td>\n",
       "                        <td id=\"T_0f5edc56_9746_11e9_88c1_d46a6aa6cb2drow10_col1\" class=\"data row10 col1\" >0.1</td>\n",
       "                        <td id=\"T_0f5edc56_9746_11e9_88c1_d46a6aa6cb2drow10_col2\" class=\"data row10 col2\" >0.097</td>\n",
       "                        <td id=\"T_0f5edc56_9746_11e9_88c1_d46a6aa6cb2drow10_col3\" class=\"data row10 col3\" >0.13</td>\n",
       "                        <td id=\"T_0f5edc56_9746_11e9_88c1_d46a6aa6cb2drow10_col4\" class=\"data row10 col4\" >0.22</td>\n",
       "                        <td id=\"T_0f5edc56_9746_11e9_88c1_d46a6aa6cb2drow10_col5\" class=\"data row10 col5\" >0.046</td>\n",
       "                        <td id=\"T_0f5edc56_9746_11e9_88c1_d46a6aa6cb2drow10_col6\" class=\"data row10 col6\" >0.13</td>\n",
       "                        <td id=\"T_0f5edc56_9746_11e9_88c1_d46a6aa6cb2drow10_col7\" class=\"data row10 col7\" >0.1</td>\n",
       "                        <td id=\"T_0f5edc56_9746_11e9_88c1_d46a6aa6cb2drow10_col8\" class=\"data row10 col8\" >-0.069</td>\n",
       "                        <td id=\"T_0f5edc56_9746_11e9_88c1_d46a6aa6cb2drow10_col9\" class=\"data row10 col9\" >0.054</td>\n",
       "                        <td id=\"T_0f5edc56_9746_11e9_88c1_d46a6aa6cb2drow10_col10\" class=\"data row10 col10\" >1.0</td>\n",
       "                        <td id=\"T_0f5edc56_9746_11e9_88c1_d46a6aa6cb2drow10_col11\" class=\"data row10 col11\" >-0.042</td>\n",
       "                        <td id=\"T_0f5edc56_9746_11e9_88c1_d46a6aa6cb2drow10_col12\" class=\"data row10 col12\" >0.086</td>\n",
       "            </tr>\n",
       "            <tr>\n",
       "                        <th id=\"T_0f5edc56_9746_11e9_88c1_d46a6aa6cb2dlevel0_row11\" class=\"row_heading level0 row11\" >Current Ver</th>\n",
       "                        <td id=\"T_0f5edc56_9746_11e9_88c1_d46a6aa6cb2drow11_col0\" class=\"data row11 col0\" >0.26</td>\n",
       "                        <td id=\"T_0f5edc56_9746_11e9_88c1_d46a6aa6cb2drow11_col1\" class=\"data row11 col1\" >0.14</td>\n",
       "                        <td id=\"T_0f5edc56_9746_11e9_88c1_d46a6aa6cb2drow11_col2\" class=\"data row11 col2\" >0.016</td>\n",
       "                        <td id=\"T_0f5edc56_9746_11e9_88c1_d46a6aa6cb2drow11_col3\" class=\"data row11 col3\" >0.25</td>\n",
       "                        <td id=\"T_0f5edc56_9746_11e9_88c1_d46a6aa6cb2drow11_col4\" class=\"data row11 col4\" >0.072</td>\n",
       "                        <td id=\"T_0f5edc56_9746_11e9_88c1_d46a6aa6cb2drow11_col5\" class=\"data row11 col5\" >-0.026</td>\n",
       "                        <td id=\"T_0f5edc56_9746_11e9_88c1_d46a6aa6cb2drow11_col6\" class=\"data row11 col6\" >-0.0044</td>\n",
       "                        <td id=\"T_0f5edc56_9746_11e9_88c1_d46a6aa6cb2drow11_col7\" class=\"data row11 col7\" >-0.007</td>\n",
       "                        <td id=\"T_0f5edc56_9746_11e9_88c1_d46a6aa6cb2drow11_col8\" class=\"data row11 col8\" >-0.017</td>\n",
       "                        <td id=\"T_0f5edc56_9746_11e9_88c1_d46a6aa6cb2drow11_col9\" class=\"data row11 col9\" >0.11</td>\n",
       "                        <td id=\"T_0f5edc56_9746_11e9_88c1_d46a6aa6cb2drow11_col10\" class=\"data row11 col10\" >-0.042</td>\n",
       "                        <td id=\"T_0f5edc56_9746_11e9_88c1_d46a6aa6cb2drow11_col11\" class=\"data row11 col11\" >1.0</td>\n",
       "                        <td id=\"T_0f5edc56_9746_11e9_88c1_d46a6aa6cb2drow11_col12\" class=\"data row11 col12\" >-0.054</td>\n",
       "            </tr>\n",
       "            <tr>\n",
       "                        <th id=\"T_0f5edc56_9746_11e9_88c1_d46a6aa6cb2dlevel0_row12\" class=\"row_heading level0 row12\" >Android Ver</th>\n",
       "                        <td id=\"T_0f5edc56_9746_11e9_88c1_d46a6aa6cb2drow12_col0\" class=\"data row12 col0\" >0.019</td>\n",
       "                        <td id=\"T_0f5edc56_9746_11e9_88c1_d46a6aa6cb2drow12_col1\" class=\"data row12 col1\" >0.048</td>\n",
       "                        <td id=\"T_0f5edc56_9746_11e9_88c1_d46a6aa6cb2drow12_col2\" class=\"data row12 col2\" >0.018</td>\n",
       "                        <td id=\"T_0f5edc56_9746_11e9_88c1_d46a6aa6cb2drow12_col3\" class=\"data row12 col3\" >0.025</td>\n",
       "                        <td id=\"T_0f5edc56_9746_11e9_88c1_d46a6aa6cb2drow12_col4\" class=\"data row12 col4\" >0.067</td>\n",
       "                        <td id=\"T_0f5edc56_9746_11e9_88c1_d46a6aa6cb2drow12_col5\" class=\"data row12 col5\" >0.0072</td>\n",
       "                        <td id=\"T_0f5edc56_9746_11e9_88c1_d46a6aa6cb2drow12_col6\" class=\"data row12 col6\" >0.078</td>\n",
       "                        <td id=\"T_0f5edc56_9746_11e9_88c1_d46a6aa6cb2drow12_col7\" class=\"data row12 col7\" >0.07</td>\n",
       "                        <td id=\"T_0f5edc56_9746_11e9_88c1_d46a6aa6cb2drow12_col8\" class=\"data row12 col8\" >-0.046</td>\n",
       "                        <td id=\"T_0f5edc56_9746_11e9_88c1_d46a6aa6cb2drow12_col9\" class=\"data row12 col9\" >0.063</td>\n",
       "                        <td id=\"T_0f5edc56_9746_11e9_88c1_d46a6aa6cb2drow12_col10\" class=\"data row12 col10\" >0.086</td>\n",
       "                        <td id=\"T_0f5edc56_9746_11e9_88c1_d46a6aa6cb2drow12_col11\" class=\"data row12 col11\" >-0.054</td>\n",
       "                        <td id=\"T_0f5edc56_9746_11e9_88c1_d46a6aa6cb2drow12_col12\" class=\"data row12 col12\" >1.0</td>\n",
       "            </tr>\n",
       "    </tbody></table>"
      ],
      "text/plain": [
       "<pandas.io.formats.style.Styler at 0x7f64da19ac88>"
      ]
     },
     "execution_count": 17,
     "metadata": {},
     "output_type": "execute_result"
    }
   ],
   "source": [
    "data.apply(lambda x: x.factorize()[0]).corr().style.format(\"{:.2}\").background_gradient(cmap=plt.get_cmap('bwr'), axis=1)"
   ]
  },
  {
   "cell_type": "markdown",
   "metadata": {},
   "source": [
    "One could have easily guessed that there is a high correlation between 'Genre' and 'Category'. The table shows the Pearson correlation coefficient of 0.85 between the two.\n",
    "One more notable pair of columns is (Type, Price). Since 'Type' here means whether an app is 'Free' or 'Priced', having its positive correlation with 'Price' column in understandable."
   ]
  },
  {
   "cell_type": "code",
   "execution_count": 18,
   "metadata": {
    "colab": {},
    "colab_type": "code",
    "id": "Dz0wVTkdVViR"
   },
   "outputs": [],
   "source": [
    "#Lets first see which kind of apps really do not get to be rated at all?\n",
    "#skipping this question "
   ]
  },
  {
   "cell_type": "code",
   "execution_count": 19,
   "metadata": {
    "colab": {},
    "colab_type": "code",
    "id": "04iSEDCkVViT"
   },
   "outputs": [],
   "source": [
    "# FACTORS AFFECTING THE INSTALLATION OF AN APP:"
   ]
  },
  {
   "cell_type": "code",
   "execution_count": 0,
   "metadata": {
    "colab": {},
    "colab_type": "code",
    "id": "lFCWIyIwVViV"
   },
   "outputs": [],
   "source": [
    "# First we need to convert the column of installs (number of installs) into numeric since counts\n",
    "# cannot be numeric\n",
    "\n",
    "#data.Installs = data.Installs.str.replace('+','').str.replace(',','').astype(int)\n",
    "\n",
    "# if the dataset is loaded again, run this once."
   ]
  },
  {
   "cell_type": "markdown",
   "metadata": {},
   "source": [
    "What are the factors affecting the installation of an app?"
   ]
  },
  {
   "cell_type": "markdown",
   "metadata": {},
   "source": [
    "Let's take a look at the \"Installs\" column first."
   ]
  },
  {
   "cell_type": "code",
   "execution_count": 20,
   "metadata": {},
   "outputs": [
    {
     "name": "stdout",
     "output_type": "stream",
     "text": [
      "0            10,000+\n",
      "1           500,000+\n",
      "2         5,000,000+\n",
      "3        50,000,000+\n",
      "4           100,000+\n",
      "5            50,000+\n",
      "6            50,000+\n",
      "7         1,000,000+\n",
      "8         1,000,000+\n",
      "9            10,000+\n",
      "10        1,000,000+\n",
      "11        1,000,000+\n",
      "12       10,000,000+\n",
      "13          100,000+\n",
      "14          100,000+\n",
      "16          500,000+\n",
      "17           10,000+\n",
      "18        5,000,000+\n",
      "19       10,000,000+\n",
      "20          100,000+\n",
      "21          100,000+\n",
      "22          500,000+\n",
      "24           50,000+\n",
      "25           10,000+\n",
      "26          500,000+\n",
      "27          100,000+\n",
      "28           10,000+\n",
      "29          100,000+\n",
      "30          100,000+\n",
      "31           50,000+\n",
      "            ...     \n",
      "10795       100,000+\n",
      "10796     1,000,000+\n",
      "10797     1,000,000+\n",
      "10799       100,000+\n",
      "10800         5,000+\n",
      "10801         1,000+\n",
      "10802        10,000+\n",
      "10803     1,000,000+\n",
      "10804       100,000+\n",
      "10805           100+\n",
      "10809     1,000,000+\n",
      "10810           100+\n",
      "10812         1,000+\n",
      "10814        50,000+\n",
      "10815       500,000+\n",
      "10817       100,000+\n",
      "10819         5,000+\n",
      "10820         1,000+\n",
      "10826     5,000,000+\n",
      "10827         5,000+\n",
      "10828        10,000+\n",
      "10829        10,000+\n",
      "10830       100,000+\n",
      "10832       100,000+\n",
      "10833         1,000+\n",
      "10834           500+\n",
      "10836         5,000+\n",
      "10837           100+\n",
      "10839         1,000+\n",
      "10840    10,000,000+\n",
      "Name: Installs, Length: 8190, dtype: object\n"
     ]
    }
   ],
   "source": [
    "print(data['Installs'])"
   ]
  },
  {
   "cell_type": "markdown",
   "metadata": {},
   "source": [
    "The 'Installs' column needs to be converted into integer type for which we will first remove the , and + signs from the values."
   ]
  },
  {
   "cell_type": "code",
   "execution_count": 21,
   "metadata": {},
   "outputs": [],
   "source": [
    "data.Installs = data.Installs.str.replace('+','').str.replace(',','').astype(int)"
   ]
  },
  {
   "cell_type": "code",
   "execution_count": 22,
   "metadata": {},
   "outputs": [
    {
     "name": "stdout",
     "output_type": "stream",
     "text": [
      "0           10000\n",
      "1          500000\n",
      "2         5000000\n",
      "3        50000000\n",
      "4          100000\n",
      "5           50000\n",
      "6           50000\n",
      "7         1000000\n",
      "8         1000000\n",
      "9           10000\n",
      "10        1000000\n",
      "11        1000000\n",
      "12       10000000\n",
      "13         100000\n",
      "14         100000\n",
      "16         500000\n",
      "17          10000\n",
      "18        5000000\n",
      "19       10000000\n",
      "20         100000\n",
      "21         100000\n",
      "22         500000\n",
      "24          50000\n",
      "25          10000\n",
      "26         500000\n",
      "27         100000\n",
      "28          10000\n",
      "29         100000\n",
      "30         100000\n",
      "31          50000\n",
      "           ...   \n",
      "10795      100000\n",
      "10796     1000000\n",
      "10797     1000000\n",
      "10799      100000\n",
      "10800        5000\n",
      "10801        1000\n",
      "10802       10000\n",
      "10803     1000000\n",
      "10804      100000\n",
      "10805         100\n",
      "10809     1000000\n",
      "10810         100\n",
      "10812        1000\n",
      "10814       50000\n",
      "10815      500000\n",
      "10817      100000\n",
      "10819        5000\n",
      "10820        1000\n",
      "10826     5000000\n",
      "10827        5000\n",
      "10828       10000\n",
      "10829       10000\n",
      "10830      100000\n",
      "10832      100000\n",
      "10833        1000\n",
      "10834         500\n",
      "10836        5000\n",
      "10837         100\n",
      "10839        1000\n",
      "10840    10000000\n",
      "Name: Installs, Length: 8190, dtype: int64\n"
     ]
    }
   ],
   "source": [
    "print(data['Installs'])"
   ]
  },
  {
   "cell_type": "markdown",
   "metadata": {},
   "source": [
    "The dtype of this column can now seen to be int64."
   ]
  },
  {
   "cell_type": "code",
   "execution_count": 23,
   "metadata": {
    "colab": {},
    "colab_type": "code",
    "id": "1GTTHedVVViY",
    "outputId": "b9b1caf2-9e83-4a3f-f14d-d7bdf943f05a"
   },
   "outputs": [
    {
     "name": "stdout",
     "output_type": "stream",
     "text": [
      "['seaborn-pastel', 'seaborn-paper', 'seaborn-white', 'classic', 'fivethirtyeight', 'seaborn-darkgrid', 'seaborn-whitegrid', 'seaborn-muted', 'seaborn-poster', 'Solarize_Light2', 'seaborn-bright', 'seaborn-colorblind', 'ggplot', 'seaborn-dark-palette', 'seaborn-deep', 'seaborn-notebook', 'seaborn-talk', 'dark_background', 'seaborn-dark', 'fast', 'bmh', '_classic_test', 'tableau-colorblind10', 'grayscale', 'seaborn-ticks', 'seaborn']\n"
     ]
    }
   ],
   "source": [
    "print(plt.style.available)"
   ]
  },
  {
   "cell_type": "code",
   "execution_count": 24,
   "metadata": {
    "colab": {},
    "colab_type": "code",
    "id": "D15Bwnd5VVia",
    "outputId": "d40c4675-b39b-4898-cb4d-82354179cf66"
   },
   "outputs": [
    {
     "data": {
      "image/png": "[encoded data removed]",
      "text/plain": [
       "<Figure size 576x576 with 1 Axes>"
      ]
     },
     "metadata": {},
     "output_type": "display_data"
    }
   ],
   "source": [
    "\n",
    "l = len(data[\"Category\"].unique())\n",
    "plt.style.use('seaborn-ticks')\n",
    "ax = data.groupby(\"Category\").mean().sort_values(by=\"Installs\", ascending=False)[:5].plot(kind='bar', color = 'red',\n",
    "                                    legend = False,\n",
    "                                    figsize=(8, 8),\n",
    "                                    title=\"Bar chart for the Category of the apps\")\n",
    "\n",
    "ax.set_xlabel(\"Category\", fontsize = 14)\n",
    "ax.set_ylabel(\"Number of installs\", fontsize = 14)\n",
    "plt.tick_params(labelsize=12)"
   ]
  },
  {
   "cell_type": "markdown",
   "metadata": {},
   "source": [
    "The above given bar graph shows that the top 5 most installed app categories. Clearly, 'Communication' apps get the highest number of installations followed by 'Social' apps and the 'Video Players'."
   ]
  },
  {
   "cell_type": "markdown",
   "metadata": {},
   "source": [
    "Here we make a claim:\n",
    "'An app that serves the soul purpose (communication) of the android devices will naturally get higher number of installations.' <br/>\n",
    "This is the reason that the apps of category 'Communication' and 'Social' have the highest number of installations."
   ]
  },
  {
   "cell_type": "markdown",
   "metadata": {},
   "source": [
    "Next we look how the type of an app can affect its installation."
   ]
  },
  {
   "cell_type": "code",
   "execution_count": 26,
   "metadata": {
    "colab": {},
    "colab_type": "code",
    "id": "NTRHxa92VVih",
    "outputId": "ab261562-f45d-4837-82a8-10c3cc2dde04"
   },
   "outputs": [
    {
     "data": {
      "image/png": "[encoded data removed]",
      "text/plain": [
       "<Figure size 576x576 with 1 Axes>"
      ]
     },
     "metadata": {},
     "output_type": "display_data"
    }
   ],
   "source": [
    "\n",
    "l = len(data[\"Type\"].unique())\n",
    "\n",
    "ax = data.groupby(\"Type\").mean().sort_values(by=\"Installs\", ascending=False)[:l].plot(kind='bar', color = 'blue',\n",
    "                                    legend = False,\n",
    "                                    figsize=(8, 8),\n",
    "                                    title=\"Bar chart for the type of apps\")\n",
    "\n",
    "ax.set_xlabel(\"Type\", fontsize = 14)\n",
    "ax.set_ylabel(\"Number of installs\", fontsize = 14)\n",
    "plt.tick_params(labelsize=12)"
   ]
  },
  {
   "cell_type": "markdown",
   "metadata": {},
   "source": [
    "Bar graph shows that free apps get huge number of installations. This is obvious as a very small fraction of people are ever willing to pay for some app they are using in their android device unless it is of an extreme importance to them. "
   ]
  },
  {
   "cell_type": "code",
   "execution_count": 28,
   "metadata": {
    "colab": {},
    "colab_type": "code",
    "id": "-ThLkmKLVVir",
    "outputId": "9b9592ea-bfd4-43c7-f85b-7fc0dd6a3cc1"
   },
   "outputs": [
    {
     "data": {
      "image/png": "[encoded data removed]",
      "text/plain": [
       "<Figure size 576x576 with 1 Axes>"
      ]
     },
     "metadata": {},
     "output_type": "display_data"
    }
   ],
   "source": [
    "l = len(data[\"Price\"].unique())\n",
    "\n",
    "ax = data.groupby(\"Price\").mean().sort_values(by=\"Installs\", ascending=False)[1:5].plot(kind='bar', color = 'blue',\n",
    "                                    legend = False,\n",
    "                                    figsize=(8, 8),\n",
    "                                    title=\"Bar chart for the paid apps\")\n",
    "\n",
    "ax.set_xlabel(\"Price\", fontsize = 14)\n",
    "ax.set_ylabel(\"Number of installs\", fontsize = 14)\n",
    "plt.tick_params(labelsize=12)"
   ]
  },
  {
   "cell_type": "code",
   "execution_count": 29,
   "metadata": {
    "colab": {},
    "colab_type": "code",
    "id": "klPgOBTpVViu",
    "outputId": "1706e0bd-0568-4545-80f2-0191302c2ff0"
   },
   "outputs": [
    {
     "data": {
      "image/png": "[encoded data removed]",
      "text/plain": [
       "<Figure size 720x576 with 1 Axes>"
      ]
     },
     "metadata": {},
     "output_type": "display_data"
    }
   ],
   "source": [
    "l = len(data[\"Content Rating\"].unique())\n",
    "\n",
    "ax = data.groupby(\"Content Rating\").mean().sort_values(by=\"Installs\", ascending=False)[:l].plot(kind='bar',\n",
    "                                    color = 'brown',\n",
    "                                    legend = False,\n",
    "                                    figsize=(10, 8),\n",
    "                                    title=\"Bar chart for the apps with respect to their content\")\n",
    "ax.set_xlabel(\"Content Rating\", fontsize = 14)\n",
    "ax.set_ylabel(\"Number of installs\", fontsize = 14)\n",
    "plt.tick_params(labelsize=12)"
   ]
  },
  {
   "cell_type": "markdown",
   "metadata": {},
   "source": [
    "This bar graph shows that the apps with content rating \"Teen\" have the highest number of installs in the Google appstore. This is a very intersting result. By combining Figure X and Figure Y, we conclude that although a large number of apps in the appstore have the content rating \"Everyone\", the apps with the content rating \"Teens\" carry the highest number of installations.\n",
    "Apps that have the content suitable for adults get very few installtions."
   ]
  },
  {
   "cell_type": "markdown",
   "metadata": {},
   "source": [
    "This is counter intuitive . One good reason that I imagine is that a majority of the popular apps that can be seen in almost every android device and used by people of all age groups are not marked suitable for 'Everyone' but officially require the user to be at least 13+ i.e. \"Teen\". For example, Twitter has content rating of 17+ whereas Instagram, Pinterest have content rating of 13+. <br/>\n",
    "Below we content rating of the most popular apps in the Google appstore from our dataset: <br/>\n",
    "Facebook Teen <br/>\n",
    "Instagram Teen <br/>\n",
    "Pinterest Teen <br/>\n",
    "Twitter Mature 17+ <br/>\n",
    "Whatsapp Messenger Everyone <br/>\n",
    "Google Playbooks Teens <br/>"
   ]
  },
  {
   "cell_type": "markdown",
   "metadata": {},
   "source": [
    "Here we further improve our claim made above: <br/>\n",
    "Any app that serves the purpose of Communication and Social connection is most likely to be installed in a large number of android devices. Further, it is not important for an app to have the content rating of 'Everyone' for it to get higher number of installations. <br/>"
   ]
  },
  {
   "cell_type": "code",
   "execution_count": 30,
   "metadata": {},
   "outputs": [
    {
     "data": {
      "text/html": [
       "<div>\n",
       "<style scoped>\n",
       "    .dataframe tbody tr th:only-of-type {\n",
       "        vertical-align: middle;\n",
       "    }\n",
       "\n",
       "    .dataframe tbody tr th {\n",
       "        vertical-align: top;\n",
       "    }\n",
       "\n",
       "    .dataframe thead th {\n",
       "        text-align: right;\n",
       "    }\n",
       "</style>\n",
       "<table border=\"1\" class=\"dataframe\">\n",
       "  <thead>\n",
       "    <tr style=\"text-align: right;\">\n",
       "      <th></th>\n",
       "      <th>App</th>\n",
       "      <th>Category</th>\n",
       "      <th>Rating</th>\n",
       "      <th>Reviews</th>\n",
       "      <th>Size</th>\n",
       "      <th>Installs</th>\n",
       "      <th>Type</th>\n",
       "      <th>Price</th>\n",
       "      <th>Content Rating</th>\n",
       "      <th>Genres</th>\n",
       "      <th>Last Updated</th>\n",
       "      <th>Current Ver</th>\n",
       "      <th>Android Ver</th>\n",
       "    </tr>\n",
       "  </thead>\n",
       "  <tbody>\n",
       "    <tr>\n",
       "      <th>3</th>\n",
       "      <td>Sketch - Draw &amp; Paint</td>\n",
       "      <td>ART_AND_DESIGN</td>\n",
       "      <td>4.5</td>\n",
       "      <td>215644</td>\n",
       "      <td>25M</td>\n",
       "      <td>50000000</td>\n",
       "      <td>Free</td>\n",
       "      <td>0</td>\n",
       "      <td>Teen</td>\n",
       "      <td>Art &amp; Design</td>\n",
       "      <td>June 8, 2018</td>\n",
       "      <td>Varies with device</td>\n",
       "      <td>4.2 and up</td>\n",
       "    </tr>\n",
       "    <tr>\n",
       "      <th>139</th>\n",
       "      <td>Wattpad 📖 Free Books</td>\n",
       "      <td>BOOKS_AND_REFERENCE</td>\n",
       "      <td>4.6</td>\n",
       "      <td>2914724</td>\n",
       "      <td>Varies with device</td>\n",
       "      <td>100000000</td>\n",
       "      <td>Free</td>\n",
       "      <td>0</td>\n",
       "      <td>Teen</td>\n",
       "      <td>Books &amp; Reference</td>\n",
       "      <td>August 1, 2018</td>\n",
       "      <td>Varies with device</td>\n",
       "      <td>Varies with device</td>\n",
       "    </tr>\n",
       "    <tr>\n",
       "      <th>143</th>\n",
       "      <td>Amazon Kindle</td>\n",
       "      <td>BOOKS_AND_REFERENCE</td>\n",
       "      <td>4.2</td>\n",
       "      <td>814080</td>\n",
       "      <td>Varies with device</td>\n",
       "      <td>100000000</td>\n",
       "      <td>Free</td>\n",
       "      <td>0</td>\n",
       "      <td>Teen</td>\n",
       "      <td>Books &amp; Reference</td>\n",
       "      <td>July 27, 2018</td>\n",
       "      <td>Varies with device</td>\n",
       "      <td>Varies with device</td>\n",
       "    </tr>\n",
       "    <tr>\n",
       "      <th>152</th>\n",
       "      <td>Google Play Books</td>\n",
       "      <td>BOOKS_AND_REFERENCE</td>\n",
       "      <td>3.9</td>\n",
       "      <td>1433233</td>\n",
       "      <td>Varies with device</td>\n",
       "      <td>1000000000</td>\n",
       "      <td>Free</td>\n",
       "      <td>0</td>\n",
       "      <td>Teen</td>\n",
       "      <td>Books &amp; Reference</td>\n",
       "      <td>August 3, 2018</td>\n",
       "      <td>Varies with device</td>\n",
       "      <td>Varies with device</td>\n",
       "    </tr>\n",
       "    <tr>\n",
       "      <th>188</th>\n",
       "      <td>Indeed Job Search</td>\n",
       "      <td>BUSINESS</td>\n",
       "      <td>4.3</td>\n",
       "      <td>674730</td>\n",
       "      <td>Varies with device</td>\n",
       "      <td>50000000</td>\n",
       "      <td>Free</td>\n",
       "      <td>0</td>\n",
       "      <td>Everyone</td>\n",
       "      <td>Business</td>\n",
       "      <td>May 21, 2018</td>\n",
       "      <td>Varies with device</td>\n",
       "      <td>Varies with device</td>\n",
       "    </tr>\n",
       "  </tbody>\n",
       "</table>\n",
       "</div>"
      ],
      "text/plain": [
       "                       App             Category  Rating  Reviews  \\\n",
       "3    Sketch - Draw & Paint       ART_AND_DESIGN     4.5   215644   \n",
       "139   Wattpad 📖 Free Books  BOOKS_AND_REFERENCE     4.6  2914724   \n",
       "143          Amazon Kindle  BOOKS_AND_REFERENCE     4.2   814080   \n",
       "152      Google Play Books  BOOKS_AND_REFERENCE     3.9  1433233   \n",
       "188      Indeed Job Search             BUSINESS     4.3   674730   \n",
       "\n",
       "                   Size    Installs  Type Price Content Rating  \\\n",
       "3                   25M    50000000  Free     0           Teen   \n",
       "139  Varies with device   100000000  Free     0           Teen   \n",
       "143  Varies with device   100000000  Free     0           Teen   \n",
       "152  Varies with device  1000000000  Free     0           Teen   \n",
       "188  Varies with device    50000000  Free     0       Everyone   \n",
       "\n",
       "                Genres    Last Updated         Current Ver         Android Ver  \n",
       "3         Art & Design    June 8, 2018  Varies with device          4.2 and up  \n",
       "139  Books & Reference  August 1, 2018  Varies with device  Varies with device  \n",
       "143  Books & Reference   July 27, 2018  Varies with device  Varies with device  \n",
       "152  Books & Reference  August 3, 2018  Varies with device  Varies with device  \n",
       "188           Business    May 21, 2018  Varies with device  Varies with device  "
      ]
     },
     "execution_count": 30,
     "metadata": {},
     "output_type": "execute_result"
    }
   ],
   "source": [
    "data[data.Installs > 10000000].head()"
   ]
  },
  {
   "cell_type": "code",
   "execution_count": 31,
   "metadata": {},
   "outputs": [
    {
     "data": {
      "text/plain": [
       "'Everyone'"
      ]
     },
     "execution_count": 31,
     "metadata": {},
     "output_type": "execute_result"
    }
   ],
   "source": [
    "row = data.loc[data['App']=='WhatsApp Messenger'].index\n",
    "data.loc[row[0], 'Content Rating']"
   ]
  },
  {
   "cell_type": "markdown",
   "metadata": {},
   "source": [
    "# Machine Learning <br/>"
   ]
  },
  {
   "cell_type": "markdown",
   "metadata": {},
   "source": [
    "Here we will predict the rating of an app based on its attribute."
   ]
  },
  {
   "cell_type": "markdown",
   "metadata": {},
   "source": [
    "For this, we first need to convert all the attributes/columns to numeric value attributes/columns."
   ]
  },
  {
   "cell_type": "markdown",
   "metadata": {},
   "source": [
    "'Rating' is already a numeric column and we have passed it through pre-processing phase to remove NA entries. <br/>\n",
    "Let us look at the Current Ver column of the dataset."
   ]
  },
  {
   "cell_type": "code",
   "execution_count": 47,
   "metadata": {
    "scrolled": true
   },
   "outputs": [
    {
     "name": "stdout",
     "output_type": "stream",
     "text": [
      "['1.0.0' '2.0.0' '1.2.4' ... '1.5.447' '1.0.612928' '0.3.4']\n"
     ]
    }
   ],
   "source": [
    "print (data['Current Ver'].unique())"
   ]
  },
  {
   "cell_type": "markdown",
   "metadata": {},
   "source": [
    "We need to remove the unicode characters from this column."
   ]
  },
  {
   "cell_type": "code",
   "execution_count": 52,
   "metadata": {
    "colab": {},
    "colab_type": "code",
    "id": "ecQPee03VVjm"
   },
   "outputs": [],
   "source": [
    "replaces = [u'\\u00AE', u'\\u2013', u'\\u00C3', u'\\u00E3', u'\\u00B3', '[', ']', \"'\"]\n",
    "for i in replaces:\n",
    "    data['Current Ver'] = data['Current Ver'].astype(str).apply(lambda x : x.replace(i, ''))\n",
    "\n",
    "regex = [r'[-+|/:/;(_)@]', r'\\s+', r'[A-Za-z]+']\n",
    "for j in regex:\n",
    "    data['Current Ver'] = data['Current Ver'].astype(str).apply(lambda x : re.sub(j, '0', x))\n",
    "\n",
    "data['Current Ver'] = data['Current Ver'].astype(str).apply(lambda x : x.replace('.', ',',1).replace('.', '').replace(',', '.',1)).astype(float)\n"
   ]
  },
  {
   "cell_type": "markdown",
   "metadata": {},
   "source": [
    "Then we fill the null entries with the median of the values of this column. <br/>\n",
    "Why median? Why not mean? <br/>\n",
    "Median is a superior measure of average than mean. It is not effected by the outliers."
   ]
  },
  {
   "cell_type": "code",
   "execution_count": 53,
   "metadata": {},
   "outputs": [
    {
     "name": "stdout",
     "output_type": "stream",
     "text": [
      "[1.        2.        1.24      ... 1.5447    1.0612928 0.34     ]\n"
     ]
    }
   ],
   "source": [
    "data['Current Ver'] = data['Current Ver'].fillna(data['Current Ver'].median())\n",
    "\n",
    "print (data['Current Ver'].unique())"
   ]
  },
  {
   "cell_type": "markdown",
   "metadata": {},
   "source": [
    "We also convert the 'Price' and 'Installs' columns to numeric ones by performing a little bit of cleaning."
   ]
  },
  {
   "cell_type": "code",
   "execution_count": 61,
   "metadata": {},
   "outputs": [],
   "source": [
    "# Handling the Price columns\n",
    "data['Price'] = data['Price'].apply(lambda x : x.strip('$'))\n",
    "\n",
    "# Installs cealning\n",
    "data['Installs'] = data['Installs'].apply(lambda x : x.strip('+').replace(',', ''))"
   ]
  },
  {
   "cell_type": "markdown",
   "metadata": {},
   "source": [
    "Next, we handle the 'Last updated' column."
   ]
  },
  {
   "cell_type": "code",
   "execution_count": 62,
   "metadata": {},
   "outputs": [],
   "source": [
    "data['Last Updated'] = data['Last Updated'].apply(lambda x : time.mktime(datetime.datetime.strptime(x, '%B %d, %Y').timetuple()))"
   ]
  },
  {
   "cell_type": "markdown",
   "metadata": {},
   "source": [
    "Next we start encoding the non-numeric columns."
   ]
  },
  {
   "cell_type": "code",
   "execution_count": 80,
   "metadata": {
    "colab": {},
    "colab_type": "code",
    "id": "FbqFmXhgVVjo"
   },
   "outputs": [],
   "source": [
    "# Category features encoding\n",
    "category_list = data['Category'].unique().tolist() \n",
    "category_list = ['cat_' + word for word in category_list]\n",
    "data = pd.concat([data, pd.get_dummies(data['Category'], prefix='cat')], axis=1)\n",
    "\n",
    "# App values encoding\n",
    "le = preprocessing.LabelEncoder()\n",
    "data['App'] = le.fit_transform(data['App'])\n",
    "\n",
    "# Content Rating encoding\n",
    "le = preprocessing.LabelEncoder()\n",
    "data['Content Rating'] = le.fit_transform(data['Content Rating'])\n",
    "\n",
    "# Genres features encoding\n",
    "le = preprocessing.LabelEncoder()\n",
    "data['Genres'] = le.fit_transform(data['Genres'])"
   ]
  },
  {
   "cell_type": "code",
   "execution_count": 81,
   "metadata": {},
   "outputs": [
    {
     "data": {
      "text/plain": [
       "array(['ART_AND_DESIGN', 0, 'AUTO_AND_VEHICLES', 'BEAUTY',\n",
       "       'BOOKS_AND_REFERENCE', 'BUSINESS', 'COMICS', 'COMMUNICATION',\n",
       "       'DATING', 'EDUCATION', 'ENTERTAINMENT', 'EVENTS', 'FINANCE',\n",
       "       'FOOD_AND_DRINK', 'HEALTH_AND_FITNESS', 'HOUSE_AND_HOME',\n",
       "       'LIBRARIES_AND_DEMO', 'LIFESTYLE', 'GAME', 'FAMILY', 'MEDICAL',\n",
       "       'SOCIAL', 'SHOPPING', 'PHOTOGRAPHY', 'SPORTS', 'TRAVEL_AND_LOCAL',\n",
       "       'TOOLS', 'PERSONALIZATION', 'PRODUCTIVITY', 'PARENTING', 'WEATHER',\n",
       "       'VIDEO_PLAYERS', 'NEWS_AND_MAGAZINES', 'MAPS_AND_NAVIGATION'],\n",
       "      dtype=object)"
      ]
     },
     "execution_count": 81,
     "metadata": {},
     "output_type": "execute_result"
    }
   ],
   "source": [
    "data['Category'].unique()"
   ]
  },
  {
   "cell_type": "markdown",
   "metadata": {},
   "source": [
    "Do you see the category type 0? It needs to be removed."
   ]
  },
  {
   "cell_type": "code",
   "execution_count": 84,
   "metadata": {},
   "outputs": [],
   "source": [
    "i = data[data['Category'] == 0].index\n",
    "data= data.drop(i)"
   ]
  },
  {
   "cell_type": "code",
   "execution_count": 85,
   "metadata": {},
   "outputs": [
    {
     "data": {
      "text/plain": [
       "array(['ART_AND_DESIGN', 'AUTO_AND_VEHICLES', 'BEAUTY',\n",
       "       'BOOKS_AND_REFERENCE', 'BUSINESS', 'COMICS', 'COMMUNICATION',\n",
       "       'DATING', 'EDUCATION', 'ENTERTAINMENT', 'EVENTS', 'FINANCE',\n",
       "       'FOOD_AND_DRINK', 'HEALTH_AND_FITNESS', 'HOUSE_AND_HOME',\n",
       "       'LIBRARIES_AND_DEMO', 'LIFESTYLE', 'GAME', 'FAMILY', 'MEDICAL',\n",
       "       'SOCIAL', 'SHOPPING', 'PHOTOGRAPHY', 'SPORTS', 'TRAVEL_AND_LOCAL',\n",
       "       'TOOLS', 'PERSONALIZATION', 'PRODUCTIVITY', 'PARENTING', 'WEATHER',\n",
       "       'VIDEO_PLAYERS', 'NEWS_AND_MAGAZINES', 'MAPS_AND_NAVIGATION'],\n",
       "      dtype=object)"
      ]
     },
     "execution_count": 85,
     "metadata": {},
     "output_type": "execute_result"
    }
   ],
   "source": [
    "data['Category'].unique()"
   ]
  },
  {
   "cell_type": "markdown",
   "metadata": {},
   "source": [
    "It has been removed."
   ]
  },
  {
   "cell_type": "code",
   "execution_count": 79,
   "metadata": {
    "colab": {},
    "colab_type": "code",
    "id": "Fh6QkvrGVVj5"
   },
   "outputs": [],
   "source": [
    "# Convert kbytes to Mbytes \n",
    "k_indices = data['Size'].loc[data['Size'].str.contains('k')].index.tolist()\n",
    "converter = pd.DataFrame(data.loc[k_indices, 'Size'].apply(lambda x: x.strip('k')).astype(float).apply(lambda x: x / 1024).apply(lambda x: round(x, 3)).astype(str))\n",
    "data.loc[k_indices,'Size'] = converter"
   ]
  },
  {
   "cell_type": "code",
   "execution_count": 64,
   "metadata": {
    "colab": {},
    "colab_type": "code",
    "id": "JNQebuUOVVj7",
    "outputId": "6b5b3035-f936-4793-d175-ddeb450d56fa"
   },
   "outputs": [],
   "source": [
    "# Size cleaning\n",
    "data['Size'] = data['Size'].apply(lambda x: x.strip('M'))\n",
    "data[data['Size'] == 'Varies with device'] = 0\n",
    "data['Size'] = data['Size'].astype(float)              "
   ]
  },
  {
   "cell_type": "code",
   "execution_count": 70,
   "metadata": {},
   "outputs": [],
   "source": [
    "# Type encoding\n",
    "data['Type'] = pd.get_dummies(data['Type'])"
   ]
  },
  {
   "cell_type": "markdown",
   "metadata": {},
   "source": [
    "We now move towards the application of the algorithms."
   ]
  },
  {
   "cell_type": "code",
   "execution_count": 71,
   "metadata": {
    "colab": {},
    "colab_type": "code",
    "id": "swySYAhlVVj8",
    "outputId": "1278276c-7950-4b8d-c5d9-0a799aa104ca"
   },
   "outputs": [],
   "source": [
    "# Split data into training and testing sets\n",
    "features = ['App', 'Reviews', 'Size', 'Installs', 'Type', 'Price', 'Content Rating', 'Genres', 'Last Updated', 'Current Ver']\n",
    "features.extend(category_list)\n",
    "\n",
    "#feature matrix\n",
    "X = data[features]\n",
    "#label vector\n",
    "y = data['Rating']"
   ]
  },
  {
   "cell_type": "code",
   "execution_count": 91,
   "metadata": {
    "colab": {},
    "colab_type": "code",
    "id": "n69C5iCSVVj-"
   },
   "outputs": [],
   "source": [
    "X_train, X_test, y_train, y_test = train_test_split(X, y, test_size = 0.20, random_state = 10)"
   ]
  },
  {
   "cell_type": "code",
   "execution_count": 92,
   "metadata": {
    "colab": {},
    "colab_type": "code",
    "id": "Ys6nf5EoVVj_",
    "outputId": "f695665d-b6e8-4504-9e61-9619ff9a8e83"
   },
   "outputs": [
    {
     "name": "stdout",
     "output_type": "stream",
     "text": [
      "<class 'pandas.core.frame.DataFrame'>\n",
      "Int64Index: 7021 entries, 0 to 10840\n",
      "Columns: 112 entries, App to cat_WEATHER\n",
      "dtypes: float64(4), int64(103), object(4), uint8(1)\n",
      "memory usage: 6.0+ MB\n"
     ]
    }
   ],
   "source": [
    "data.info()"
   ]
  },
  {
   "cell_type": "markdown",
   "metadata": {},
   "source": [
    "We use the K nearest Regression method to predict the rating of the apps based on the features' vector"
   ]
  },
  {
   "cell_type": "code",
   "execution_count": 99,
   "metadata": {
    "colab": {},
    "colab_type": "code",
    "id": "ZQplwxbaVVkA"
   },
   "outputs": [],
   "source": [
    "model = KNeighborsRegressor(n_neighbors = 10)"
   ]
  },
  {
   "cell_type": "code",
   "execution_count": 100,
   "metadata": {
    "colab": {},
    "colab_type": "code",
    "id": "lpxb2CTYVVkB",
    "outputId": "ee3a4026-31e6-4f9c-8ff9-ceb62f3a73a6"
   },
   "outputs": [
    {
     "data": {
      "text/plain": [
       "KNeighborsRegressor(algorithm='auto', leaf_size=30, metric='minkowski',\n",
       "          metric_params=None, n_jobs=None, n_neighbors=10, p=2,\n",
       "          weights='uniform')"
      ]
     },
     "execution_count": 100,
     "metadata": {},
     "output_type": "execute_result"
    }
   ],
   "source": [
    "model.fit(X_train, y_train)"
   ]
  },
  {
   "cell_type": "markdown",
   "metadata": {},
   "source": [
    "Our K-Nearest Neighbor Regressor model is trained on the training dataset."
   ]
  },
  {
   "cell_type": "code",
   "execution_count": 101,
   "metadata": {},
   "outputs": [
    {
     "data": {
      "text/plain": [
       "'Accuracy: 89.021%'"
      ]
     },
     "execution_count": 101,
     "metadata": {},
     "output_type": "execute_result"
    }
   ],
   "source": [
    "accuracy = model.score(X_test,y_test)\n",
    "'Accuracy: ' + str(np.round(accuracy*100, 3)) + '%'"
   ]
  },
  {
   "cell_type": "markdown",
   "metadata": {},
   "source": [
    "89.021% is a low accuracy. Let's see at what value of K for KNN Regressor do we get the highest accuracy?"
   ]
  },
  {
   "cell_type": "code",
   "execution_count": 107,
   "metadata": {},
   "outputs": [
    {
     "data": {
      "image/png": "[encoded data removed]",
      "text/plain": [
       "<Figure size 576x576 with 1 Axes>"
      ]
     },
     "metadata": {},
     "output_type": "display_data"
    }
   ],
   "source": [
    "n_neighbors = np.arange(1, 50, 1)\n",
    "scores = []\n",
    "for n in n_neighbors:\n",
    "    model.set_params(n_neighbors=n)\n",
    "    model.fit(X_train, y_train)\n",
    "    scores.append(model.score(X_test, y_test))\n",
    "plt.figure(figsize=(8, 8))\n",
    "plt.title(\"Performance curve with respect to the number of estimators K\")\n",
    "plt.xlabel(\"Number of Neighbors K\")\n",
    "plt.ylabel(\"Score\")\n",
    "plt.plot(n_neighbors, scores)\n",
    "plt.grid(b=None, which='major', axis='both', color='r', linestyle='-', linewidth=0.2)"
   ]
  },
  {
   "cell_type": "markdown",
   "metadata": {},
   "source": [
    "We don't see much improvement in performance after K=20. And the score remains below 90 even around K=50."
   ]
  },
  {
   "cell_type": "code",
   "execution_count": 112,
   "metadata": {
    "colab": {},
    "colab_type": "code",
    "id": "H0MEfbfFVVkF"
   },
   "outputs": [
    {
     "name": "stdout",
     "output_type": "stream",
     "text": [
      "Max Performance :89.63451264635248%\n"
     ]
    }
   ],
   "source": [
    "print('Max Performance :'+str(max(scores)*100)+'%')"
   ]
  }
 ],
 "metadata": {
  "colab": {
   "name": "Mining (1).ipynb",
   "provenance": [],
   "version": "0.3.2"
  },
  "kernelspec": {
   "display_name": "Python 3",
   "language": "python",
   "name": "python3"
  },
  "language_info": {
   "codemirror_mode": {
    "name": "ipython",
    "version": 3
   },
   "file_extension": ".py",
   "mimetype": "text/x-python",
   "name": "python",
   "nbconvert_exporter": "python",
   "pygments_lexer": "ipython3",
   "version": "3.5.2"
  }
 },
 "nbformat": 4,
 "nbformat_minor": 1
}
